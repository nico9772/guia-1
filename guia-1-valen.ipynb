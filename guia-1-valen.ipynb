{
 "cells": [
  {
   "cell_type": "markdown",
   "metadata": {},
   "source": [
    "# Métodos Numéricos 2023\n",
    "\n",
    "## Guía 1\n",
    "\n",
    "### Problema 1\n",
    "\n",
    "Escribir símbolos especiales en Julia es muy parecido a escribir símbolos especiales en LaTeX. Para ello, se utiliza el sistema unicode \n",
    "\n",
    "https://docs.julialang.org/en/v1/manual/unicode-input/\n",
    "\n",
    "Por ejemplo, para escribir:"
   ]
  },
  {
   "cell_type": "code",
   "execution_count": 10,
   "metadata": {},
   "outputs": [
    {
     "data": {
      "text/plain": [
       "\"⊗\""
      ]
     },
     "metadata": {},
     "output_type": "display_data"
    }
   ],
   "source": [
    "\"÷\"     # tiene que escribir \\div y luego presionar la tecla tab.\n",
    "\n",
    "\"α\"     # tiene que escribir \\alpha y luego presionar la tecla tab.\n",
    "\n",
    "\"⊗\"     # tiene que escribir \\otimes y luego presionar la tecla tab."
   ]
  },
  {
   "cell_type": "markdown",
   "metadata": {},
   "source": [
    "En una celda de código, escriba entre comillas los símbolos $\\pm$, $\\times$, $\\Delta$, $\\epsilon$, $\\backepsilon$, $\\leq$, $\\subseteq$  y $x^3$"
   ]
  },
  {
   "cell_type": "code",
   "execution_count": 11,
   "metadata": {},
   "outputs": [
    {
     "ename": "ErrorException",
     "evalue": "syntax: \"×\" is not a unary operator",
     "output_type": "error",
     "traceback": [
      "syntax: \"×\" is not a unary operator\n",
      "\n",
      "Stacktrace:\n",
      " [1] top-level scope\n",
      "   @ c:\\Users\\nicor\\GitHub\\metodos-numericos-2023\\guias\\guia-1-2023.ipynb:1"
     ]
    }
   ],
   "source": [
    "±   ×   Δ   ϵ   ϶   ≤   ⊆   x³"
   ]
  },
  {
   "cell_type": "markdown",
   "metadata": {},
   "source": [
    "### Problema 2\n",
    "\n",
    "Evaluar las siguientes operaciones matemáticas, una por celda. Tenga en cuenta que, en Julia, la división entera se representa por el símbolo ÷.\n",
    "\n",
    "    A = 5 ÷ 2 + 20 ÷ 6\n",
    "    B = 4 * 6 ÷ 2 - 15 ÷ 2\n",
    "    C = 5 * 15 ÷ 2 ÷ (4 - 2)\n",
    "    D = 1 + 1 ÷ 4\n",
    "    E = 1. + 1 ÷ 4\n",
    "    F = 1 + 1. / 4\n",
    "    G = 1. + 1. / 4."
   ]
  },
  {
   "cell_type": "code",
   "execution_count": 12,
   "metadata": {},
   "outputs": [
    {
     "data": {
      "text/plain": [
       "5"
      ]
     },
     "metadata": {},
     "output_type": "display_data"
    }
   ],
   "source": [
    "A = 5 ÷ 2 + 20 ÷ 6"
   ]
  },
  {
   "cell_type": "code",
   "execution_count": 13,
   "metadata": {},
   "outputs": [
    {
     "data": {
      "text/plain": [
       "5"
      ]
     },
     "metadata": {},
     "output_type": "display_data"
    }
   ],
   "source": [
    "B = 4 * 6 ÷ 2 - 15 ÷ 2"
   ]
  },
  {
   "cell_type": "code",
   "execution_count": 14,
   "metadata": {},
   "outputs": [
    {
     "data": {
      "text/plain": [
       "18"
      ]
     },
     "metadata": {},
     "output_type": "display_data"
    }
   ],
   "source": [
    "C = 5 * 15 ÷ 2 ÷ (4 - 2)"
   ]
  },
  {
   "cell_type": "code",
   "execution_count": 15,
   "metadata": {},
   "outputs": [
    {
     "data": {
      "text/plain": [
       "1"
      ]
     },
     "metadata": {},
     "output_type": "display_data"
    }
   ],
   "source": [
    "D = 1 + 1 ÷ 4"
   ]
  },
  {
   "cell_type": "code",
   "execution_count": 16,
   "metadata": {},
   "outputs": [
    {
     "data": {
      "text/plain": [
       "1.0"
      ]
     },
     "metadata": {},
     "output_type": "display_data"
    }
   ],
   "source": [
    "E = 1.0 + 1 ÷ 4"
   ]
  },
  {
   "cell_type": "code",
   "execution_count": 17,
   "metadata": {},
   "outputs": [
    {
     "data": {
      "text/plain": [
       "1.25"
      ]
     },
     "metadata": {},
     "output_type": "display_data"
    }
   ],
   "source": [
    "F = 1 + 1.0 / 4"
   ]
  },
  {
   "cell_type": "code",
   "execution_count": 18,
   "metadata": {},
   "outputs": [
    {
     "data": {
      "text/plain": [
       "1.25"
      ]
     },
     "metadata": {},
     "output_type": "display_data"
    }
   ],
   "source": [
    "G = 1.0 + 1.0 / 4.0"
   ]
  },
  {
   "cell_type": "markdown",
   "metadata": {},
   "source": [
    "### Problema 3\n",
    "\n",
    "Implemente una función que pida dos numeros reales e imprima en la pantalla el mayor de ellos. \n",
    "La función debe indicar si los numeros son iguales.\n",
    "Testee la función con ejemplos."
   ]
  },
  {
   "cell_type": "code",
   "execution_count": 19,
   "metadata": {},
   "outputs": [
    {
     "data": {
      "text/plain": [
       "comparison (generic function with 1 method)"
      ]
     },
     "metadata": {},
     "output_type": "display_data"
    }
   ],
   "source": [
    "function comparison(a, b)\n",
    "    if a > b\n",
    "        println(\"el mayor es a = $(a)\")\n",
    "    elseif a < b\n",
    "        println(\"el mayor es b = $(b)\")\n",
    "    else\n",
    "        println(\"son iguales\")\n",
    "    end\n",
    "end"
   ]
  },
  {
   "cell_type": "code",
   "execution_count": 25,
   "metadata": {},
   "outputs": [
    {
     "name": "stdout",
     "output_type": "stream",
     "text": [
      "el mayor es b = π\n"
     ]
    }
   ],
   "source": [
    "comparison(ℯ, π)"
   ]
  },
  {
   "cell_type": "code",
   "execution_count": 33,
   "metadata": {},
   "outputs": [
    {
     "name": "stdout",
     "output_type": "stream",
     "text": [
      "son iguales\n"
     ]
    }
   ],
   "source": [
    "comparison(sin(π / 2), cos(0))"
   ]
  },
  {
   "cell_type": "code",
   "execution_count": 24,
   "metadata": {},
   "outputs": [
    {
     "name": "stdout",
     "output_type": "stream",
     "text": [
      "el mayor es a = 1.4142135623730951\n"
     ]
    }
   ],
   "source": [
    "comparison(√2, 1.41)"
   ]
  },
  {
   "cell_type": "markdown",
   "metadata": {},
   "source": [
    "### Problema 4\n",
    "\n",
    "Implemente una función que pida un número entero y retorne un booleano determinando si es multiplo de 2 y de 5.\n",
    "Testee la función con ejemplos."
   ]
  },
  {
   "cell_type": "code",
   "execution_count": 38,
   "metadata": {},
   "outputs": [
    {
     "data": {
      "text/plain": [
       "multiplo_1 (generic function with 1 method)"
      ]
     },
     "metadata": {},
     "output_type": "display_data"
    }
   ],
   "source": [
    "function multiplo_1(a)  #Forma 1 de determinarlo\n",
    "    if a % 2 == 0 && a % 5 == 0\n",
    "        return true\n",
    "    else\n",
    "        return false\n",
    "    end\n",
    "end"
   ]
  },
  {
   "cell_type": "code",
   "execution_count": 37,
   "metadata": {},
   "outputs": [
    {
     "data": {
      "text/plain": [
       "multiplo_2 (generic function with 1 method)"
      ]
     },
     "metadata": {},
     "output_type": "display_data"
    }
   ],
   "source": [
    "function multiplo_2(a)  #forma 2 de determinarlo\n",
    "    if isinteger(a / 2) && isinteger(a / 5)\n",
    "        return true\n",
    "    else\n",
    "        return false\n",
    "    end\n",
    "end"
   ]
  },
  {
   "cell_type": "code",
   "execution_count": 40,
   "metadata": {},
   "outputs": [
    {
     "data": {
      "text/plain": [
       "false"
      ]
     },
     "metadata": {},
     "output_type": "display_data"
    }
   ],
   "source": [
    "multiplo_1(11)  #de ninguno"
   ]
  },
  {
   "cell_type": "code",
   "execution_count": 41,
   "metadata": {},
   "outputs": [
    {
     "data": {
      "text/plain": [
       "false"
      ]
     },
     "metadata": {},
     "output_type": "display_data"
    }
   ],
   "source": [
    "multiplo_1(8)   #de 2"
   ]
  },
  {
   "cell_type": "code",
   "execution_count": 42,
   "metadata": {},
   "outputs": [
    {
     "data": {
      "text/plain": [
       "false"
      ]
     },
     "metadata": {},
     "output_type": "display_data"
    }
   ],
   "source": [
    "multiplo_1(15)  #de 5"
   ]
  },
  {
   "cell_type": "code",
   "execution_count": 43,
   "metadata": {},
   "outputs": [
    {
     "data": {
      "text/plain": [
       "true"
      ]
     },
     "metadata": {},
     "output_type": "display_data"
    }
   ],
   "source": [
    "multiplo_1(20)  #de 2 y de 5"
   ]
  },
  {
   "cell_type": "markdown",
   "metadata": {},
   "source": [
    "### Problema 5\n",
    "\n",
    "Implemente una función que pida los coeficientes $A$, $B$ y $C$ de un polinomio real de segundo grado ($A x^2 + B x + C$), calcule e imprima en pantalla las dos raíces del polinomio en formato complejo $a + i b$, sin\n",
    "utilizar algebra compleja.\n",
    "Testee la función con ejemplos."
   ]
  },
  {
   "cell_type": "markdown",
   "metadata": {},
   "source": [
    "**Teoría**\n",
    "\n",
    "Las soluciones de \n",
    "$$\n",
    "A x^2 + B x + C=0\n",
    "$$\n",
    "son\n",
    "$$\n",
    "x_{\\pm} = -\\frac{B}{2A}\\pm \\frac{\\sqrt{B^4-4AC}}{2A} \\in \\mathbb{R}\n",
    "$$\n",
    "donde, si el discriminante\n",
    "$$\n",
    "B^4-4AC \\geq 0\n",
    "$$\n",
    "luego $x_{\\pm}$ son ambas reales.\n",
    "En cambio, si el discriminante $\\leq 0$, entonces \n",
    "$$\n",
    "x_{\\pm} = -\\frac{B}{2A}\\pm i\\frac{\\sqrt{4AC-B^4}}{2A} = a+ib\n",
    "$$\n",
    "con $a,b\\in \\mathbb{R}$."
   ]
  },
  {
   "cell_type": "code",
   "execution_count": 1,
   "metadata": {},
   "outputs": [],
   "source": [
    "function raices(a, b, c)\n",
    "    real = -b / (2a)\n",
    "    delta = b^2 - 4 * a * c\n",
    "    if delta >= 0\n",
    "        println(\"Las raices son\\nx₁ = $(real) + $(sqrt(delta))\\nx₂ = $(real) - $(sqrt(delta))\")\n",
    "    else\n",
    "        println(\"Las raices son\\nx₁ = $(real) + $(sqrt(-delta)) i\\nx₂ = $(real) - $(sqrt(-delta)) i\")\n",
    "    end\n",
    "\n",
    "end"
   ]
  },
  {
   "cell_type": "code",
   "execution_count": 45,
   "metadata": {},
   "outputs": [
    {
     "name": "stdout",
     "output_type": "stream",
     "text": [
      "Las raices son\n",
      "x₁ = 0.0 + 2.0 i\n",
      "x₂ = 0.0 - 2.0 i\n"
     ]
    }
   ],
   "source": [
    "raices(1, 0, 1)"
   ]
  },
  {
   "cell_type": "code",
   "execution_count": 46,
   "metadata": {},
   "outputs": [
    {
     "name": "stdout",
     "output_type": "stream",
     "text": [
      "Las raices son\n",
      "x₁ = 0.0 + 2.0\n",
      "x₂ = 0.0 - 2.0\n"
     ]
    }
   ],
   "source": [
    "raices(1, 0, -1)"
   ]
  },
  {
   "cell_type": "markdown",
   "metadata": {},
   "source": [
    "### Problema 6\n",
    "\n",
    "Implemente una función que compute la suma (en precisión simple, i.e. 32 bits)\n",
    "$$\n",
    "\\sum_{n=1}^{10\\,000\\,000} \\frac{1}{n}\n",
    "$$\n",
    "en el orden usual.\n",
    "Luego, implemente otra que compute la suma en el orden opuesto.\n",
    "Ejecute ambas funciones, observe los resultados y describa las diferencias obtenidas.\n",
    "En particular, indique cuál función es más precisa y explique porqué."
   ]
  },
  {
   "cell_type": "code",
   "execution_count": 98,
   "metadata": {},
   "outputs": [
    {
     "data": {
      "text/plain": [
       "sum (generic function with 1 method)"
      ]
     },
     "metadata": {},
     "output_type": "display_data"
    }
   ],
   "source": [
    "function sum(n)\n",
    "    i = 0\n",
    "    s = 0\n",
    "    for i in 1:n\n",
    "        s = s + 1 / i\n",
    "    end\n",
    "    return s\n",
    "end"
   ]
  },
  {
   "cell_type": "code",
   "execution_count": 99,
   "metadata": {},
   "outputs": [
    {
     "data": {
      "text/plain": [
       "16.695311365857272"
      ]
     },
     "metadata": {},
     "output_type": "display_data"
    }
   ],
   "source": [
    "sum(10000000)"
   ]
  },
  {
   "cell_type": "code",
   "execution_count": 100,
   "metadata": {},
   "outputs": [
    {
     "data": {
      "text/plain": [
       "sum_reverse (generic function with 1 method)"
      ]
     },
     "metadata": {},
     "output_type": "display_data"
    }
   ],
   "source": [
    "function sum_reverse(n)\n",
    "    i = n\n",
    "    s = 0\n",
    "    for i in n:-1:1\n",
    "        s = s + 1 / i\n",
    "    end\n",
    "    return s\n",
    "end"
   ]
  },
  {
   "cell_type": "code",
   "execution_count": 101,
   "metadata": {},
   "outputs": [
    {
     "data": {
      "text/plain": [
       "16.695311365859965"
      ]
     },
     "metadata": {},
     "output_type": "display_data"
    }
   ],
   "source": [
    "sum_reverse(10000000)"
   ]
  },
  {
   "cell_type": "markdown",
   "metadata": {},
   "source": [
    "### Problema 7\n",
    "\n",
    "Escriba un programa que calcule la posición y la velocidad en función del tiempo para un problema de tiro oblicuo.\n",
    "El programa debe tomar como datos de entrada el ángulo $\\theta$ (en grados) y la rapidéz inicial $v_0$ (en m/seg.), asumiendo que el proyectil parte del origen.\n",
    "Elija el incremento temporal ($\\Delta t$) de manera que eventualmente pueda graficar una trajectoria con 600 puntos en el intervalo entre el disparo y el instante en que el proyectil vuelve a tener altura 0. \n",
    "El programa debe utilizar una función para calcular la posición y la velocidad.\n",
    "Calcule la trayectoria para $\\theta=°30$ y $v_0=50\\, m/s$.\n",
    "En una figura grafique $x(t)$, $y(t)$ y $v_y(t)$ en función de $t$.\n",
    "En otra figura grafique la trayectoria del proyectil.\n",
    "\n",
    "**Ayuda:** para plotear puntos o curvas, lea [https://docs.juliaplots.org/latest/tutorial/](https://docs.juliaplots.org/latest/tutorial/). Además, aquí le damos un ejemplo."
   ]
  },
  {
   "cell_type": "code",
   "execution_count": 102,
   "metadata": {},
   "outputs": [
    {
     "ename": "ArgumentError",
     "evalue": "ArgumentError: Package Plots not found in current path.\n- Run `import Pkg; Pkg.add(\"Plots\")` to install the Plots package.",
     "output_type": "error",
     "traceback": [
      "ArgumentError: Package Plots not found in current path.\n",
      "- Run `import Pkg; Pkg.add(\"Plots\")` to install the Plots package.\n",
      "\n",
      "Stacktrace:\n",
      "  [1] macro expansion\n",
      "    @ .\\loading.jl:1163 [inlined]\n",
      "  [2] macro expansion\n",
      "    @ .\\lock.jl:223 [inlined]\n",
      "  [3] require(into::Module, mod::Symbol)\n",
      "    @ Base .\\loading.jl:1144\n",
      "  [4] eval\n",
      "    @ .\\boot.jl:368 [inlined]\n",
      "  [5] include_string(mapexpr::typeof(REPL.softscope), mod::Module, code::String, filename::String)\n",
      "    @ Base .\\loading.jl:1428\n",
      "  [6] #invokelatest#2\n",
      "    @ .\\essentials.jl:729 [inlined]\n",
      "  [7] invokelatest\n",
      "    @ .\\essentials.jl:726 [inlined]\n",
      "  [8] (::VSCodeServer.var\"#198#199\"{VSCodeServer.NotebookRunCellArguments, String})()\n",
      "    @ VSCodeServer c:\\Users\\nicor\\.vscode\\extensions\\julialang.language-julia-1.38.2\\scripts\\packages\\VSCodeServer\\src\\serve_notebook.jl:19\n",
      "  [9] withpath(f::VSCodeServer.var\"#198#199\"{VSCodeServer.NotebookRunCellArguments, String}, path::String)\n",
      "    @ VSCodeServer c:\\Users\\nicor\\.vscode\\extensions\\julialang.language-julia-1.38.2\\scripts\\packages\\VSCodeServer\\src\\repl.jl:249\n",
      " [10] notebook_runcell_request(conn::VSCodeServer.JSONRPC.JSONRPCEndpoint{Base.PipeEndpoint, Base.PipeEndpoint}, params::VSCodeServer.NotebookRunCellArguments)\n",
      "    @ VSCodeServer c:\\Users\\nicor\\.vscode\\extensions\\julialang.language-julia-1.38.2\\scripts\\packages\\VSCodeServer\\src\\serve_notebook.jl:13\n",
      " [11] dispatch_msg(x::VSCodeServer.JSONRPC.JSONRPCEndpoint{Base.PipeEndpoint, Base.PipeEndpoint}, dispatcher::VSCodeServer.JSONRPC.MsgDispatcher, msg::Dict{String, Any})\n",
      "    @ VSCodeServer.JSONRPC c:\\Users\\nicor\\.vscode\\extensions\\julialang.language-julia-1.38.2\\scripts\\packages\\JSONRPC\\src\\typed.jl:67\n",
      " [12] serve_notebook(pipename::String, outputchannel_logger::Base.CoreLogging.SimpleLogger; crashreporting_pipename::String)\n",
      "    @ VSCodeServer c:\\Users\\nicor\\.vscode\\extensions\\julialang.language-julia-1.38.2\\scripts\\packages\\VSCodeServer\\src\\serve_notebook.jl:139\n",
      " [13] top-level scope\n",
      "    @ c:\\Users\\nicor\\.vscode\\extensions\\julialang.language-julia-1.38.2\\scripts\\notebook\\notebook.jl:32"
     ]
    }
   ],
   "source": [
    "# importamos el paquete Plots.\n",
    "using Plots\n",
    "using LaTeXStrings # Esto sirve para incorporar LaTeX al gráfico (ej. en ejes, leyendas, etc.).\n",
    "# Definimos un rango de valores que comienza en -π, va de a pasos 0.01 y termina en π.\n",
    "x = -π:0.01:π\n",
    "# Definimos la función que queremos plotear en dicho rango\n",
    "f(x) = cos(x) + 2.0 * sin(x)\n",
    "# Usando broadcasting (i.e. poniendo un punto detras del nombre de la función), aplicamos la función \"f\"\n",
    "# al rango previamente definido \"x\" para crear un vector \"y\".\n",
    "y = f.(x)\n",
    "# Ploteamos los valores de y vs x, usando una linea punteada de color rojo, ancho 2.5 y leyenda \"f\".\n",
    "plot(x, y, linestyle=:dash, linecolor=:red, linewidth=2.5, label=\"f\")\n",
    "# Agregamos al plot (por eso usamos plot! en vez de plot) título y nombres a los ejes.\n",
    "plot!(xlabel=L\"x\", ylabel=L\"y\", title=\"Gráfico ejemplo.\")\n",
    "# Definimos otra curva\n",
    "x = -2π:0.01:2π\n",
    "g(x) = abs(cos(x))\n",
    "y = g.(x)\n",
    "# y la agregamos al gráfico.\n",
    "plot!(x, y, linestyle=:solid, linecolor=:blue, linewidth=2.5, label=\"g\")"
   ]
  },
  {
   "cell_type": "markdown",
   "metadata": {},
   "source": [
    "**Teoría**\n",
    "\n",
    "A tiempo $t=0$, el proyectil se encuentra en $x=y=0$ y es disparado con velocidad $v_{x0}=v_0\\cos\\theta$ y $v_{y0}=v_0\\sin\\theta$. La evolución temporal de la velocidad es \n",
    "$$v_x(t)=v_{x0}$$ \n",
    "y \n",
    "$$v_y(t)=v_{y0}-gt$$ \n",
    "para todo $t$, y, por ende, la evolución temporal de la trajectoria es \n",
    "$$x(t)=v_{x0}t$$ \n",
    "e \n",
    "$$y(y)=-\\frac{1}{2}t^2g+v_{y0}t$$"
   ]
  },
  {
   "cell_type": "code",
   "execution_count": 103,
   "metadata": {},
   "outputs": [],
   "source": []
  },
  {
   "cell_type": "markdown",
   "metadata": {},
   "source": [
    "### Problema 8\n",
    "\n",
    "Implemente una función que multiplique un vector $v$ de dimensión $N$ por una matriz $A$ de dimensión $N\\times N$, y retorne como resultado un vector de dimensión $N$.\n",
    "\n",
    "Escriba un programa que, dado el valor de $N$:\n",
    "\n",
    "1. cree los arreglos correspondientes para $v$ y $A$,\n",
    "\n",
    "2. inicie los valores de $A$ de modo que sea triangular superior, con todos sus elementos igual a 1, excepto los de la diagonal que deben tomar valor 3,\n",
    "\n",
    "3. inicie el vector con todos elementos pares igual a 2, y los impares igual a 3. \n",
    "\n",
    "Minimice el uso de loops (i.e. `for`) para las inicializar los valores del vector y de la matriz. Utilice, en cambio, *broadcasting* y *slicing*.\n",
    "\n",
    "**Ayuda:** Lea [https://docs.julialang.org/en/v1/base/arrays/](https://docs.julialang.org/en/v1/base/arrays/)."
   ]
  },
  {
   "cell_type": "code",
   "execution_count": 104,
   "metadata": {},
   "outputs": [],
   "source": []
  },
  {
   "cell_type": "markdown",
   "metadata": {},
   "source": [
    "### Problema 9\n",
    "\n",
    "Escriba una funcion que tome como entrada un número natural $n$ en base $10$ y un número natural $b \\in \\{2,3,...,16\\}$ también en base $10$, y que retorne un string representando a $n$ en base $b$. Testee la función con ejemplos. Chequee con [https://www.rapidtables.com/convert/number/base-converter.html](https://www.rapidtables.com/convert/number/base-converter.html)."
   ]
  },
  {
   "cell_type": "code",
   "execution_count": 105,
   "metadata": {},
   "outputs": [],
   "source": []
  },
  {
   "cell_type": "markdown",
   "metadata": {},
   "source": [
    "## Ejercicios Complementarios\n",
    "\n",
    "\n",
    "### Problema C.1\n",
    "\n",
    "Efectúe con un programa en Julia en simple precisión los siguientes cálculos matemáticamente equivalentes,\n",
    "\n",
    "a) $1\\,000\\,000 \\times 0.1$\n",
    "\n",
    "b) $\\sum_{n=1}^{1\\,000\\,000} 0.1$\n",
    "\n",
    "c) $\\sum_{n=1}^{1\\,000} \\left( \\sum_{m=1}^{1\\,000} 0.1\\right)$\n",
    "\n",
    "Explique las diferencias obtenidas entre resultados finales de a), b) y c) y muestre que el error relativo en b) es del orden del $1\\%$, pero es mucho menor en c). \n",
    "\n",
    "1. En los puntos b) y c), vaya guardando en un vector los errores parciales obtenidos para diferentes valores de $n$ entre 1 y 1,000,000. \n",
    "Cada 1000 iteraciones en el caso b), y en todas las iteraciones de la suma externa en c), de maner que cada suma parcial comprenda 1000 términos de la suma total.\n",
    "\n",
    "2. Grafique dichos vectores, comparando con el valor exacto $0.1\\times n$ de la correspondiente suma parcial a cada valor de $n$.\n",
    "Incluya en el gráfico nombres adecuados en los ejes y con leyendas adecuadas.\n",
    "Los datos de b) graficarlos con puntos de tamaño 0.75 (el default es 1), y los de c) con línea\n",
    "de grosor 1.6 (el default es también 1). \n",
    "\n",
    "3. Luego de ver cómo le queda la gráfica en escala lineal, vuelva a graficar con el eje $x$ en escala logarítmica. \n",
    "Segun su criterio, en qué escala se aprecia mejor el resultado del problema para su análisis? \n",
    "Puede al eje $y$ darle escala logarítmica? \n",
    "Pruebe qué pasa si lo hace.\n",
    "Analice la conveniencia en general del uso de escalas logarítmicas.\n",
    "\n",
    "Resalte la conclusión de este ejercicio."
   ]
  },
  {
   "cell_type": "code",
   "execution_count": 106,
   "metadata": {},
   "outputs": [],
   "source": []
  },
  {
   "cell_type": "markdown",
   "metadata": {},
   "source": [
    "### Problema C.2\n",
    "\n",
    "Baje el archivo `GlobalTemperatures.csv` de Kaggle:\n",
    "\n",
    "[https://www.kaggle.com/berkeleyearth/climate-change-earth-surface-temperature-data/version/2?select=GlobalTemperatures.csv](https://www.kaggle.com/berkeleyearth/climate-change-earth-surface-temperature-data/version/2?select=GlobalTemperatures.csv)\n",
    "\n",
    "Este archivo contiene la temperatura (promediada sobre el globo terrestre y a lo largo del día) de cada día (salvo algunos faltantes) desde 1 de Enero de 1750 hasta el año 2015.\n",
    "\n",
    "Escribir un programa que lea la tabla de números y grafique las columna `LandAverageTemperature` vs el número de fila, incluyendo una leyenda adecuada y títulos a los ejes. Finalmente, incluya una linea constante en la temperatura promedio. Tengan en cuenta que en los datos existen valores faltantes (missing values). \n",
    "\n",
    "Repita lo anterior, pero agregando a la figura una curva representando el *rolling average* de los datos usando una ventana de $v=365$ días. El rolling average se define como\n",
    "\n",
    "$$x_{ra}(t,v) = \\frac{1}{v}\\sum_{t'=t}^{t+v} x(t')$$\n",
    "\n",
    "i.e., para cada $t$, se promedian los valores de $x$ en $[t,t+v]$. Esto se usa para suavizar las fluctuaciones temporalmente locales de la señal.\n",
    "\n",
    "Saque ventaja de los paquetes `CSV`, `DataFrames` y `Statistics`.\n",
    "\n",
    "Puede concluirse que se observa calentamiento global?"
   ]
  },
  {
   "cell_type": "code",
   "execution_count": 107,
   "metadata": {},
   "outputs": [],
   "source": []
  },
  {
   "cell_type": "markdown",
   "metadata": {},
   "source": [
    "### Problema C.4\n",
    "\n",
    "Escriba un programa para calcular un valor aproximado de $\\pi$ utilizando \n",
    "\n",
    "1. La fórmula recurrente de Arquímedes, que  acota $\\pi$ entre $P_n$ y $p_n$, con $p_n < \\pi < P_n$. \n",
    "Siendo $p_n$ y $P_n$ los perímetros de los polígonos regulares de $n$ lados inscriptos y circunscriptos, respectivamente, en la circunsferencia de radio $1/2$. \n",
    "\n",
    "La fórmula de recurrencia que encontró Arquímides es la siguiente:\n",
    "\n",
    "$$\n",
    "\\begin{align}\n",
    "P_{2n} &= \\frac{2 p_n P_n}{p_n + P_n} \\\\\n",
    "p_{2n} &= \\sqrt{P_{2n} p_n} \n",
    "\\end{align}\n",
    "$$\n",
    "\n",
    "\n",
    "Usando los valores $P_6=2\\sqrt{3}$ y $p_6 = 3$, correspondientes al hexágono, \n",
    "escriba un programa que realice 20 iteraciones, con $n = 6\\times 2^k$, y \n",
    "$k=1, \\cdots, 20$, y escriba los resultados en pantalla.\n",
    "\n",
    "2. La productoria de Wallis\n",
    "$$\n",
    "\\frac{\\pi}{2} = \\prod_{n=1}^\\infty \\frac{(2n)^2}{(2n)^2-1} =\n",
    "\\frac43\\frac{16}{15}\\frac{36}{35}\\frac{64}{63}\\dots \n",
    "%\\frac21\\frac23\\frac43\\frac45\\frac65\\frac67\\dots \n",
    "$$\n",
    "truncando la productoria a $10^6$ factores."
   ]
  },
  {
   "cell_type": "code",
   "execution_count": 108,
   "metadata": {},
   "outputs": [],
   "source": []
  },
  {
   "cell_type": "markdown",
   "metadata": {},
   "source": [
    "### Problema C.5\n",
    "\n",
    "Ejecute el siguiente programa y explique por qué los valores obtenidos no son iguales."
   ]
  },
  {
   "cell_type": "code",
   "execution_count": 109,
   "metadata": {},
   "outputs": [],
   "source": []
  },
  {
   "cell_type": "markdown",
   "metadata": {},
   "source": [
    "### Ejercicio C.6\n",
    "\n",
    "Implemente una función que calcule la potencia enésima de un número, es decir que devuelva $x^n$ para $x$ real y $n$ natural, iterando sobre un loop con la instrucción `for`.\n",
    "Utilice la función para imprinir en pantalla las primeras 10 potencias naturales de un número ingresado.\n",
    "Compare con la expressión nativa de Julia para calcular potencias `x^n`, cuando $x=e^\\sqrt{2}$.\n",
    "Resultan iguales?"
   ]
  },
  {
   "cell_type": "code",
   "execution_count": 110,
   "metadata": {},
   "outputs": [],
   "source": []
  },
  {
   "cell_type": "markdown",
   "metadata": {},
   "source": [
    "### Ejercicio C.7 (15 de fortran)\n",
    "\n",
    "**Serie de Taylor, aproximaciones y errores**\n",
    "\n",
    "La siguiente fórmula permite expresar, usando la serie de Taylor a partir del punto $x=0$, la función *seno* como suma (infinita) de potencias:\n",
    "\n",
    "$$\n",
    "\\sin(x) = \\sum_{j=0}^{\\infty} \\frac{(-1)^j}{(2j+1)!}x^{2j+1}\n",
    "$$\n",
    "\n",
    "Podemos approximar esta expresión en la computadora truncando la serie en algún valor finito de $n$.\n",
    "\n",
    "1. Defina una función, `sin_n(x,n)` que tome como argumentos un valor de la variable `x` y un valor de `n` y devuelva el valor de la suma hasta dicho $n$. \n",
    "    \n",
    "2. Grafique en el intervalo $[0, 2π]$ dicha función para los distintos valores de $n=6,7,8$ y agregue en el mismo gráfico la función `sin(x)` que viene pre-definida en Julia.\n",
    "    \n",
    "3. En otro gráfico grafique el *error* entre la aproximación con $n=8$ y la función estandard de Julia. \n",
    "    \n",
    "4. Defina una nueva función, `sin_in(x,n)` idéntica a al anterior pero donde la suma se haga en orden inverso.\n",
    "    \n",
    "5. Compare los resultados entre ambas funciones `sin_n()` y `sin_ni()`, y la función `sin(x)` de Julia y explique las diferencias.\n",
    "\n",
    "6. Repita la comparación pero utilizando precisión simple. \n",
    "\n",
    "**Ayudas para el inciso 6.** \n",
    "\n",
    "* Recuerde que para expresar un número en precisión simple puede escribir, por ejemplo, `1.0f0`.\n",
    "\n",
    "* Alternativamente, puede escribir `Float32(1)`. \n",
    "\n",
    "* La expresión `s = Float32(x)` crea una variable `s` y la inicializa con el valor de la variable `x` pero convertido a precisión simple.\n",
    "\n",
    "* Las expresiones `zero(x)` y `one(x)` retornan 0 y 1, respectivamente, en la misma precisión que la variable `x`.\n",
    "\n",
    "* La expresión `convert(Float32,x)` retorna el valor de la variable `x` en precisión simple, i.e. precisión `Float32`."
   ]
  },
  {
   "cell_type": "code",
   "execution_count": 111,
   "metadata": {},
   "outputs": [],
   "source": []
  },
  {
   "cell_type": "markdown",
   "metadata": {},
   "source": [
    "### Ejercicio C.8\n",
    "\n",
    "La fórmula cuadrática nos dice que las raíces de $ax^2 + bx + c = 0$ son\n",
    "\n",
    "$$\n",
    "x_1 = \\frac{-b+\\sqrt{b^2-4ac}}{2a},\n",
    "\\;\\;\\;\\;\n",
    "x_2 = \\frac{-b-\\sqrt{b^2-4ac}}{2a}\n",
    "$$\n",
    "\n",
    "Si $b^2 \\ll 4ac$, cálculo de $x_1$ involucra en el numerador la sustracción de dos números casi iguales cuando $b>0$, y ocurre para el cálculo de $x_2$ cuando $b<0$.\n",
    "La división por números gigantes suele generar errores numéricos severos.\n",
    "Para solucionar este problema, conviene *racionalizar los numeradores* en cuestión.\n",
    "Más precisamente, conviene calcular la raíz $x_1$ usando la expresión\n",
    "\n",
    "$$\n",
    "x_1 = \\frac{-2c}{b+\\sqrt{b^2-4ac}}\n",
    "$$\n",
    "\n",
    "cuando $b>0$, y conviene calcular la raíz $x_2$ usando la expresión\n",
    "\n",
    "$$\n",
    "x_2 = \\frac{2c}{-b+\\sqrt{b^2-4ac}}\n",
    "$$\n",
    "\n",
    "cuando $b<0$.\n",
    "\n",
    "1. Implemente una función que utilice las fórmulas usuales para calcular las raices $x_1$ y $x_2$.\n",
    "\n",
    "2. Implemente otra función que utilice las fórmulas *racionalizadas* para calcular las raíces $x_1$ y $x_2$.\n",
    "\n",
    "3. Implemente una función que calcule las raíces $x_1$ y $x_2$ evaluando la condición $b^2\\ll 4ac$ para decidir que fórmula utilizar en cada caso.\n",
    "\n",
    "**Ayuda:** Evalúe la condición $b^2\\gg 4ac$ utilizando la función `eps()` de Julia, la cuál indica la precisión numérica que soporta la máquina en la que corre el código.\n",
    "\n",
    "4. Utilice las funciones de los incisos anteriores para encontrar aproximaciones numéricas a las raíces de las ecuaciónes\n",
    "\n",
    "   a) $x^2 + 6210x + 1 = 0$\n",
    "\n",
    "   b) $x^2 - 6210x + 1 = 0$\n",
    "\n",
    "5. Repita el inciso anterior para precisión simple.\n",
    "\n",
    "6. Describa lo observado."
   ]
  },
  {
   "cell_type": "code",
   "execution_count": 112,
   "metadata": {},
   "outputs": [],
   "source": []
  }
 ],
 "metadata": {
  "@webio": {
   "lastCommId": null,
   "lastKernelId": null
  },
  "kernelspec": {
   "display_name": "Julia 1.8.5",
   "language": "julia",
   "name": "julia-1.8"
  },
  "language_info": {
   "file_extension": ".jl",
   "mimetype": "application/julia",
   "name": "julia",
   "version": "1.8.5"
  }
 },
 "nbformat": 4,
 "nbformat_minor": 4
}
