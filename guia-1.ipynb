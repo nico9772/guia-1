{
 "cells": [
  {
   "cell_type": "markdown",
   "metadata": {},
   "source": [
    "# Métodos Numéricos 2023\n",
    "\n",
    "## Guía 1\n",
    "\n",
    "### Problema 1\n",
    "\n",
    "Escribir símbolos especiales en Julia es muy parecido a escribir símbolos especiales en LaTeX. Para ello, se utiliza el sistema unicode \n",
    "\n",
    "https://docs.julialang.org/en/v1/manual/unicode-input/\n",
    "\n",
    "Por ejemplo, para escribir:"
   ]
  },
  {
   "cell_type": "code",
   "execution_count": 10,
   "metadata": {},
   "outputs": [
    {
     "data": {
      "text/plain": [
       "\"⊗\""
      ]
     },
     "metadata": {},
     "output_type": "display_data"
    }
   ],
   "source": [
    "\"÷\"     # tiene que escribir \\div y luego presionar la tecla tab.\n",
    "\n",
    "\"α\"     # tiene que escribir \\alpha y luego presionar la tecla tab.\n",
    "\n",
    "\"⊗\"     # tiene que escribir \\otimes y luego presionar la tecla tab."
   ]
  },
  {
   "cell_type": "markdown",
   "metadata": {},
   "source": [
    "En una celda de código, escriba entre comillas los símbolos $\\pm$, $\\times$, $\\Delta$, $\\epsilon$, $\\backepsilon$, $\\leq$, $\\subseteq$  y $x^3$"
   ]
  },
  {
   "cell_type": "code",
   "execution_count": 1,
   "metadata": {},
   "outputs": [
    {
     "ename": "LoadError",
     "evalue": "syntax: \"×\" is not a unary operator",
     "output_type": "error",
     "traceback": [
      "syntax: \"×\" is not a unary operator",
      "",
      "Stacktrace:",
      " [1] top-level scope",
      "   @ In[1]:1"
     ]
    }
   ],
   "source": [
    "±   ×   Δ   ϵ   ϶   ≤   ⊆   x³"
   ]
  },
  {
   "cell_type": "markdown",
   "metadata": {},
   "source": [
    "### Problema 2\n",
    "\n",
    "Evaluar las siguientes operaciones matemáticas, una por celda. Tenga en cuenta que, en Julia, la división entera se representa por el símbolo ÷.\n",
    "\n",
    "    A = 5 ÷ 2 + 20 ÷ 6\n",
    "    B = 4 * 6 ÷ 2 - 15 ÷ 2\n",
    "    C = 5 * 15 ÷ 2 ÷ (4 - 2)\n",
    "    D = 1 + 1 ÷ 4\n",
    "    E = 1. + 1 ÷ 4\n",
    "    F = 1 + 1. / 4\n",
    "    G = 1. + 1. / 4."
   ]
  },
  {
   "cell_type": "code",
   "execution_count": 12,
   "metadata": {},
   "outputs": [
    {
     "data": {
      "text/plain": [
       "5"
      ]
     },
     "metadata": {},
     "output_type": "display_data"
    }
   ],
   "source": [
    "A = 5 ÷ 2 + 20 ÷ 6"
   ]
  },
  {
   "cell_type": "code",
   "execution_count": 13,
   "metadata": {},
   "outputs": [
    {
     "data": {
      "text/plain": [
       "5"
      ]
     },
     "metadata": {},
     "output_type": "display_data"
    }
   ],
   "source": [
    "B = 4 * 6 ÷ 2 - 15 ÷ 2"
   ]
  },
  {
   "cell_type": "code",
   "execution_count": 14,
   "metadata": {},
   "outputs": [
    {
     "data": {
      "text/plain": [
       "18"
      ]
     },
     "metadata": {},
     "output_type": "display_data"
    }
   ],
   "source": [
    "C = 5 * 15 ÷ 2 ÷ (4 - 2)"
   ]
  },
  {
   "cell_type": "code",
   "execution_count": 15,
   "metadata": {},
   "outputs": [
    {
     "data": {
      "text/plain": [
       "1"
      ]
     },
     "metadata": {},
     "output_type": "display_data"
    }
   ],
   "source": [
    "D = 1 + 1 ÷ 4"
   ]
  },
  {
   "cell_type": "code",
   "execution_count": 16,
   "metadata": {},
   "outputs": [
    {
     "data": {
      "text/plain": [
       "1.0"
      ]
     },
     "metadata": {},
     "output_type": "display_data"
    }
   ],
   "source": [
    "E = 1.0 + 1 ÷ 4"
   ]
  },
  {
   "cell_type": "code",
   "execution_count": 17,
   "metadata": {},
   "outputs": [
    {
     "data": {
      "text/plain": [
       "1.25"
      ]
     },
     "metadata": {},
     "output_type": "display_data"
    }
   ],
   "source": [
    "F = 1 + 1.0 / 4"
   ]
  },
  {
   "cell_type": "code",
   "execution_count": 18,
   "metadata": {},
   "outputs": [
    {
     "data": {
      "text/plain": [
       "1.25"
      ]
     },
     "metadata": {},
     "output_type": "display_data"
    }
   ],
   "source": [
    "G = 1.0 + 1.0 / 4.0"
   ]
  },
  {
   "cell_type": "markdown",
   "metadata": {},
   "source": [
    "### Problema 3\n",
    "\n",
    "Implemente una función que pida dos numeros reales e imprima en la pantalla el mayor de ellos. \n",
    "La función debe indicar si los numeros son iguales.\n",
    "Testee la función con ejemplos."
   ]
  },
  {
   "cell_type": "code",
   "execution_count": 19,
   "metadata": {},
   "outputs": [
    {
     "data": {
      "text/plain": [
       "comparison (generic function with 1 method)"
      ]
     },
     "metadata": {},
     "output_type": "display_data"
    }
   ],
   "source": [
    "function comparison(a, b)\n",
    "    if a > b\n",
    "        println(\"el mayor es a = $(a)\")\n",
    "    elseif a < b\n",
    "        println(\"el mayor es b = $(b)\")\n",
    "    else\n",
    "        println(\"son iguales\")\n",
    "    end\n",
    "end"
   ]
  },
  {
   "cell_type": "code",
   "execution_count": 25,
   "metadata": {},
   "outputs": [
    {
     "name": "stdout",
     "output_type": "stream",
     "text": [
      "el mayor es b = π\n"
     ]
    }
   ],
   "source": [
    "comparison(ℯ, π)"
   ]
  },
  {
   "cell_type": "code",
   "execution_count": 33,
   "metadata": {},
   "outputs": [
    {
     "name": "stdout",
     "output_type": "stream",
     "text": [
      "son iguales\n"
     ]
    }
   ],
   "source": [
    "comparison(sin(π / 2), cos(0))"
   ]
  },
  {
   "cell_type": "code",
   "execution_count": 24,
   "metadata": {},
   "outputs": [
    {
     "name": "stdout",
     "output_type": "stream",
     "text": [
      "el mayor es a = 1.4142135623730951\n"
     ]
    }
   ],
   "source": [
    "comparison(√2, 1.41)"
   ]
  },
  {
   "cell_type": "markdown",
   "metadata": {},
   "source": [
    "### Problema 4\n",
    "\n",
    "Implemente una función que pida un número entero y retorne un booleano determinando si es multiplo de 2 y de 5.\n",
    "Testee la función con ejemplos."
   ]
  },
  {
   "cell_type": "code",
   "execution_count": 38,
   "metadata": {},
   "outputs": [
    {
     "data": {
      "text/plain": [
       "multiplo_1 (generic function with 1 method)"
      ]
     },
     "metadata": {},
     "output_type": "display_data"
    }
   ],
   "source": [
    "function multiplo_1(a)  #Forma 1 de determinarlo\n",
    "    if a % 2 == 0 && a % 5 == 0\n",
    "        return true\n",
    "    else\n",
    "        return false\n",
    "    end\n",
    "end"
   ]
  },
  {
   "cell_type": "code",
   "execution_count": 37,
   "metadata": {},
   "outputs": [
    {
     "data": {
      "text/plain": [
       "multiplo_2 (generic function with 1 method)"
      ]
     },
     "metadata": {},
     "output_type": "display_data"
    }
   ],
   "source": [
    "function multiplo_2(a)  #forma 2 de determinarlo\n",
    "    if isinteger(a / 2) && isinteger(a / 5)\n",
    "        return true\n",
    "    else\n",
    "        return false\n",
    "    end\n",
    "end"
   ]
  },
  {
   "cell_type": "code",
   "execution_count": 40,
   "metadata": {},
   "outputs": [
    {
     "data": {
      "text/plain": [
       "false"
      ]
     },
     "metadata": {},
     "output_type": "display_data"
    }
   ],
   "source": [
    "multiplo_1(11)  #de ninguno"
   ]
  },
  {
   "cell_type": "code",
   "execution_count": 41,
   "metadata": {},
   "outputs": [
    {
     "data": {
      "text/plain": [
       "false"
      ]
     },
     "metadata": {},
     "output_type": "display_data"
    }
   ],
   "source": [
    "multiplo_1(8)   #de 2"
   ]
  },
  {
   "cell_type": "code",
   "execution_count": 42,
   "metadata": {},
   "outputs": [
    {
     "data": {
      "text/plain": [
       "false"
      ]
     },
     "metadata": {},
     "output_type": "display_data"
    }
   ],
   "source": [
    "multiplo_1(15)  #de 5"
   ]
  },
  {
   "cell_type": "code",
   "execution_count": 43,
   "metadata": {},
   "outputs": [
    {
     "data": {
      "text/plain": [
       "true"
      ]
     },
     "metadata": {},
     "output_type": "display_data"
    }
   ],
   "source": [
    "multiplo_1(20)  #de 2 y de 5"
   ]
  },
  {
   "cell_type": "markdown",
   "metadata": {},
   "source": [
    "### Problema 5\n",
    "\n",
    "Implemente una función que pida los coeficientes $A$, $B$ y $C$ de un polinomio real de segundo grado ($A x^2 + B x + C$), calcule e imprima en pantalla las dos raíces del polinomio en formato complejo $a + i b$, sin\n",
    "utilizar algebra compleja.\n",
    "Testee la función con ejemplos."
   ]
  },
  {
   "cell_type": "markdown",
   "metadata": {},
   "source": [
    "**Teoría**\n",
    "\n",
    "Las soluciones de \n",
    "$$\n",
    "A x^2 + B x + C=0\n",
    "$$\n",
    "son\n",
    "$$\n",
    "x_{\\pm} = -\\frac{B}{2A}\\pm \\frac{\\sqrt{B^4-4AC}}{2A} \\in \\mathbb{R}\n",
    "$$\n",
    "donde, si el discriminante\n",
    "$$\n",
    "B^4-4AC \\geq 0\n",
    "$$\n",
    "luego $x_{\\pm}$ son ambas reales.\n",
    "En cambio, si el discriminante $\\leq 0$, entonces \n",
    "$$\n",
    "x_{\\pm} = -\\frac{B}{2A}\\pm i\\frac{\\sqrt{4AC-B^4}}{2A} = a+ib\n",
    "$$\n",
    "con $a,b\\in \\mathbb{R}$."
   ]
  },
  {
   "cell_type": "code",
   "execution_count": 1,
   "metadata": {},
   "outputs": [],
   "source": [
    "function raices(a, b, c)\n",
    "    real = -b / (2a)\n",
    "    delta = b^2 - 4 * a * c\n",
    "    if delta >= 0\n",
    "        println(\"Las raices son\\nx₁ = $(real) + $(sqrt(delta))\\nx₂ = $(real) - $(sqrt(delta))\")\n",
    "    else\n",
    "        println(\"Las raices son\\nx₁ = $(real) + $(sqrt(-delta)) i\\nx₂ = $(real) - $(sqrt(-delta)) i\")\n",
    "    end\n",
    "\n",
    "end"
   ]
  },
  {
   "cell_type": "code",
   "execution_count": 45,
   "metadata": {},
   "outputs": [
    {
     "name": "stdout",
     "output_type": "stream",
     "text": [
      "Las raices son\n",
      "x₁ = 0.0 + 2.0 i\n",
      "x₂ = 0.0 - 2.0 i\n"
     ]
    }
   ],
   "source": [
    "raices(1, 0, 1)"
   ]
  },
  {
   "cell_type": "code",
   "execution_count": 46,
   "metadata": {},
   "outputs": [
    {
     "name": "stdout",
     "output_type": "stream",
     "text": [
      "Las raices son\n",
      "x₁ = 0.0 + 2.0\n",
      "x₂ = 0.0 - 2.0\n"
     ]
    }
   ],
   "source": [
    "raices(1, 0, -1)"
   ]
  },
  {
   "cell_type": "markdown",
   "metadata": {},
   "source": [
    "### Problema 6\n",
    "\n",
    "Implemente una función que compute la suma (en precisión simple, i.e. 32 bits)\n",
    "$$\n",
    "\\sum_{n=1}^{10\\,000\\,000} \\frac{1}{n}\n",
    "$$\n",
    "en el orden usual.\n",
    "Luego, implemente otra que compute la suma en el orden opuesto.\n",
    "Ejecute ambas funciones, observe los resultados y describa las diferencias obtenidas.\n",
    "En particular, indique cuál función es más precisa y explique porqué."
   ]
  },
  {
   "cell_type": "code",
   "execution_count": 98,
   "metadata": {},
   "outputs": [
    {
     "data": {
      "text/plain": [
       "sum (generic function with 1 method)"
      ]
     },
     "metadata": {},
     "output_type": "display_data"
    }
   ],
   "source": [
    "function sum(n)\n",
    "    i = 0\n",
    "    s = 0\n",
    "    for i in 1:n\n",
    "        s = s + 1 / i\n",
    "    end\n",
    "    return s\n",
    "end"
   ]
  },
  {
   "cell_type": "code",
   "execution_count": 99,
   "metadata": {},
   "outputs": [
    {
     "data": {
      "text/plain": [
       "16.695311365857272"
      ]
     },
     "metadata": {},
     "output_type": "display_data"
    }
   ],
   "source": [
    "sum(10000000)"
   ]
  },
  {
   "cell_type": "code",
   "execution_count": 100,
   "metadata": {},
   "outputs": [
    {
     "data": {
      "text/plain": [
       "sum_reverse (generic function with 1 method)"
      ]
     },
     "metadata": {},
     "output_type": "display_data"
    }
   ],
   "source": [
    "function sum_reverse(n)\n",
    "    i = n\n",
    "    s = 0\n",
    "    for i in n:-1:1\n",
    "        s = s + 1 / i\n",
    "    end\n",
    "    return s\n",
    "end"
   ]
  },
  {
   "cell_type": "code",
   "execution_count": 101,
   "metadata": {},
   "outputs": [
    {
     "data": {
      "text/plain": [
       "16.695311365859965"
      ]
     },
     "metadata": {},
     "output_type": "display_data"
    }
   ],
   "source": [
    "sum_reverse(10000000)"
   ]
  },
  {
   "cell_type": "markdown",
   "metadata": {},
   "source": [
    "### Problema 7\n",
    "\n",
    "Escriba un programa que calcule la posición y la velocidad en función del tiempo para un problema de tiro oblicuo.\n",
    "El programa debe tomar como datos de entrada el ángulo $\\theta$ (en grados) y la rapidéz inicial $v_0$ (en m/seg.), asumiendo que el proyectil parte del origen.\n",
    "Elija el incremento temporal ($\\Delta t$) de manera que eventualmente pueda graficar una trajectoria con 600 puntos en el intervalo entre el disparo y el instante en que el proyectil vuelve a tener altura 0. \n",
    "El programa debe utilizar una función para calcular la posición y la velocidad.\n",
    "Calcule la trayectoria para $\\theta=°30$ y $v_0=50\\, m/s$.\n",
    "En una figura grafique $x(t)$, $y(t)$ y $v_y(t)$ en función de $t$.\n",
    "En otra figura grafique la trayectoria del proyectil.\n",
    "\n",
    "**Ayuda:** para plotear puntos o curvas, lea [https://docs.juliaplots.org/latest/tutorial/](https://docs.juliaplots.org/latest/tutorial/). Además, aquí le damos un ejemplo."
   ]
  },
  {
   "cell_type": "code",
   "execution_count": 3,
   "metadata": {},
   "outputs": [
    {
     "data": {
      "image/svg+xml": [
       "<?xml version=\"1.0\" encoding=\"utf-8\"?>\n",
       "<svg xmlns=\"http://www.w3.org/2000/svg\" xmlns:xlink=\"http://www.w3.org/1999/xlink\" width=\"600\" height=\"400\" viewBox=\"0 0 2400 1600\">\n",
       "<defs>\n",
       "  <clipPath id=\"clip440\">\n",
       "    <rect x=\"0\" y=\"0\" width=\"2400\" height=\"1600\"/>\n",
       "  </clipPath>\n",
       "</defs>\n",
       "<path clip-path=\"url(#clip440)\" d=\"M0 1600 L2400 1600 L2400 0 L0 0  Z\" fill=\"#ffffff\" fill-rule=\"evenodd\" fill-opacity=\"1\"/>\n",
       "<defs>\n",
       "  <clipPath id=\"clip441\">\n",
       "    <rect x=\"480\" y=\"0\" width=\"1681\" height=\"1600\"/>\n",
       "  </clipPath>\n",
       "</defs>\n",
       "<defs>\n",
       "  <clipPath id=\"clip442\">\n",
       "    <rect x=\"210\" y=\"123\" width=\"2143\" height=\"1301\"/>\n",
       "  </clipPath>\n",
       "</defs>\n",
       "<path clip-path=\"url(#clip440)\" d=\"M210.746 1423.18 L2352.76 1423.18 L2352.76 123.472 L210.746 123.472  Z\" fill=\"#ffffff\" fill-rule=\"evenodd\" fill-opacity=\"1\"/>\n",
       "<polyline clip-path=\"url(#clip442)\" style=\"stroke:#000000; stroke-linecap:round; stroke-linejoin:round; stroke-width:2; stroke-opacity:0.1; fill:none\" points=\"477.819,1423.18 477.819,123.472 \"/>\n",
       "<polyline clip-path=\"url(#clip442)\" style=\"stroke:#000000; stroke-linecap:round; stroke-linejoin:round; stroke-width:2; stroke-opacity:0.1; fill:none\" points=\"880.041,1423.18 880.041,123.472 \"/>\n",
       "<polyline clip-path=\"url(#clip442)\" style=\"stroke:#000000; stroke-linecap:round; stroke-linejoin:round; stroke-width:2; stroke-opacity:0.1; fill:none\" points=\"1282.26,1423.18 1282.26,123.472 \"/>\n",
       "<polyline clip-path=\"url(#clip442)\" style=\"stroke:#000000; stroke-linecap:round; stroke-linejoin:round; stroke-width:2; stroke-opacity:0.1; fill:none\" points=\"1684.49,1423.18 1684.49,123.472 \"/>\n",
       "<polyline clip-path=\"url(#clip442)\" style=\"stroke:#000000; stroke-linecap:round; stroke-linejoin:round; stroke-width:2; stroke-opacity:0.1; fill:none\" points=\"2086.71,1423.18 2086.71,123.472 \"/>\n",
       "<polyline clip-path=\"url(#clip440)\" style=\"stroke:#000000; stroke-linecap:round; stroke-linejoin:round; stroke-width:4; stroke-opacity:1; fill:none\" points=\"210.746,1423.18 2352.76,1423.18 \"/>\n",
       "<polyline clip-path=\"url(#clip440)\" style=\"stroke:#000000; stroke-linecap:round; stroke-linejoin:round; stroke-width:4; stroke-opacity:1; fill:none\" points=\"477.819,1423.18 477.819,1404.28 \"/>\n",
       "<polyline clip-path=\"url(#clip440)\" style=\"stroke:#000000; stroke-linecap:round; stroke-linejoin:round; stroke-width:4; stroke-opacity:1; fill:none\" points=\"880.041,1423.18 880.041,1404.28 \"/>\n",
       "<polyline clip-path=\"url(#clip440)\" style=\"stroke:#000000; stroke-linecap:round; stroke-linejoin:round; stroke-width:4; stroke-opacity:1; fill:none\" points=\"1282.26,1423.18 1282.26,1404.28 \"/>\n",
       "<polyline clip-path=\"url(#clip440)\" style=\"stroke:#000000; stroke-linecap:round; stroke-linejoin:round; stroke-width:4; stroke-opacity:1; fill:none\" points=\"1684.49,1423.18 1684.49,1404.28 \"/>\n",
       "<polyline clip-path=\"url(#clip440)\" style=\"stroke:#000000; stroke-linecap:round; stroke-linejoin:round; stroke-width:4; stroke-opacity:1; fill:none\" points=\"2086.71,1423.18 2086.71,1404.28 \"/>\n",
       "<path clip-path=\"url(#clip440)\" d=\"M424.347 1468.75 L454.023 1468.75 L454.023 1472.69 L424.347 1472.69 L424.347 1468.75 Z\" fill=\"#000000\" fill-rule=\"evenodd\" fill-opacity=\"1\" /><path clip-path=\"url(#clip440)\" d=\"M464.162 1451.02 L482.518 1451.02 L482.518 1454.96 L468.444 1454.96 L468.444 1463.43 Q469.463 1463.08 470.481 1462.92 Q471.5 1462.73 472.518 1462.73 Q478.305 1462.73 481.685 1465.9 Q485.064 1469.08 485.064 1474.49 Q485.064 1480.07 481.592 1483.17 Q478.12 1486.25 471.801 1486.25 Q469.625 1486.25 467.356 1485.88 Q465.111 1485.51 462.703 1484.77 L462.703 1480.07 Q464.787 1481.2 467.009 1481.76 Q469.231 1482.32 471.708 1482.32 Q475.713 1482.32 478.051 1480.21 Q480.389 1478.1 480.389 1474.49 Q480.389 1470.88 478.051 1468.77 Q475.713 1466.67 471.708 1466.67 Q469.833 1466.67 467.958 1467.08 Q466.106 1467.5 464.162 1468.38 L464.162 1451.02 Z\" fill=\"#000000\" fill-rule=\"evenodd\" fill-opacity=\"1\" /><path clip-path=\"url(#clip440)\" d=\"M494.277 1479.7 L499.162 1479.7 L499.162 1485.58 L494.277 1485.58 L494.277 1479.7 Z\" fill=\"#000000\" fill-rule=\"evenodd\" fill-opacity=\"1\" /><path clip-path=\"url(#clip440)\" d=\"M519.347 1454.1 Q515.736 1454.1 513.907 1457.66 Q512.101 1461.2 512.101 1468.33 Q512.101 1475.44 513.907 1479.01 Q515.736 1482.55 519.347 1482.55 Q522.981 1482.55 524.786 1479.01 Q526.615 1475.44 526.615 1468.33 Q526.615 1461.2 524.786 1457.66 Q522.981 1454.1 519.347 1454.1 M519.347 1450.39 Q525.157 1450.39 528.212 1455 Q531.291 1459.58 531.291 1468.33 Q531.291 1477.06 528.212 1481.67 Q525.157 1486.25 519.347 1486.25 Q513.536 1486.25 510.458 1481.67 Q507.402 1477.06 507.402 1468.33 Q507.402 1459.58 510.458 1455 Q513.536 1450.39 519.347 1450.39 Z\" fill=\"#000000\" fill-rule=\"evenodd\" fill-opacity=\"1\" /><path clip-path=\"url(#clip440)\" d=\"M827.067 1468.75 L856.743 1468.75 L856.743 1472.69 L827.067 1472.69 L827.067 1468.75 Z\" fill=\"#000000\" fill-rule=\"evenodd\" fill-opacity=\"1\" /><path clip-path=\"url(#clip440)\" d=\"M870.863 1481.64 L887.182 1481.64 L887.182 1485.58 L865.238 1485.58 L865.238 1481.64 Q867.9 1478.89 872.483 1474.26 Q877.09 1469.61 878.27 1468.27 Q880.516 1465.74 881.395 1464.01 Q882.298 1462.25 882.298 1460.56 Q882.298 1457.8 880.354 1456.07 Q878.432 1454.33 875.331 1454.33 Q873.132 1454.33 870.678 1455.09 Q868.247 1455.86 865.47 1457.41 L865.47 1452.69 Q868.294 1451.55 870.747 1450.97 Q873.201 1450.39 875.238 1450.39 Q880.608 1450.39 883.803 1453.08 Q886.997 1455.77 886.997 1460.26 Q886.997 1462.39 886.187 1464.31 Q885.4 1466.2 883.294 1468.8 Q882.715 1469.47 879.613 1472.69 Q876.511 1475.88 870.863 1481.64 Z\" fill=\"#000000\" fill-rule=\"evenodd\" fill-opacity=\"1\" /><path clip-path=\"url(#clip440)\" d=\"M896.997 1479.7 L901.881 1479.7 L901.881 1485.58 L896.997 1485.58 L896.997 1479.7 Z\" fill=\"#000000\" fill-rule=\"evenodd\" fill-opacity=\"1\" /><path clip-path=\"url(#clip440)\" d=\"M912.113 1451.02 L930.469 1451.02 L930.469 1454.96 L916.395 1454.96 L916.395 1463.43 Q917.414 1463.08 918.432 1462.92 Q919.451 1462.73 920.469 1462.73 Q926.256 1462.73 929.636 1465.9 Q933.016 1469.08 933.016 1474.49 Q933.016 1480.07 929.543 1483.17 Q926.071 1486.25 919.752 1486.25 Q917.576 1486.25 915.307 1485.88 Q913.062 1485.51 910.655 1484.77 L910.655 1480.07 Q912.738 1481.2 914.96 1481.76 Q917.182 1482.32 919.659 1482.32 Q923.664 1482.32 926.002 1480.21 Q928.34 1478.1 928.34 1474.49 Q928.34 1470.88 926.002 1468.77 Q923.664 1466.67 919.659 1466.67 Q917.784 1466.67 915.909 1467.08 Q914.057 1467.5 912.113 1468.38 L912.113 1451.02 Z\" fill=\"#000000\" fill-rule=\"evenodd\" fill-opacity=\"1\" /><path clip-path=\"url(#clip440)\" d=\"M1259.65 1454.1 Q1256.04 1454.1 1254.21 1457.66 Q1252.4 1461.2 1252.4 1468.33 Q1252.4 1475.44 1254.21 1479.01 Q1256.04 1482.55 1259.65 1482.55 Q1263.28 1482.55 1265.09 1479.01 Q1266.92 1475.44 1266.92 1468.33 Q1266.92 1461.2 1265.09 1457.66 Q1263.28 1454.1 1259.65 1454.1 M1259.65 1450.39 Q1265.46 1450.39 1268.51 1455 Q1271.59 1459.58 1271.59 1468.33 Q1271.59 1477.06 1268.51 1481.67 Q1265.46 1486.25 1259.65 1486.25 Q1253.84 1486.25 1250.76 1481.67 Q1247.7 1477.06 1247.7 1468.33 Q1247.7 1459.58 1250.76 1455 Q1253.84 1450.39 1259.65 1450.39 Z\" fill=\"#000000\" fill-rule=\"evenodd\" fill-opacity=\"1\" /><path clip-path=\"url(#clip440)\" d=\"M1279.81 1479.7 L1284.69 1479.7 L1284.69 1485.58 L1279.81 1485.58 L1279.81 1479.7 Z\" fill=\"#000000\" fill-rule=\"evenodd\" fill-opacity=\"1\" /><path clip-path=\"url(#clip440)\" d=\"M1304.88 1454.1 Q1301.27 1454.1 1299.44 1457.66 Q1297.63 1461.2 1297.63 1468.33 Q1297.63 1475.44 1299.44 1479.01 Q1301.27 1482.55 1304.88 1482.55 Q1308.51 1482.55 1310.32 1479.01 Q1312.15 1475.44 1312.15 1468.33 Q1312.15 1461.2 1310.32 1457.66 Q1308.51 1454.1 1304.88 1454.1 M1304.88 1450.39 Q1310.69 1450.39 1313.74 1455 Q1316.82 1459.58 1316.82 1468.33 Q1316.82 1477.06 1313.74 1481.67 Q1310.69 1486.25 1304.88 1486.25 Q1299.07 1486.25 1295.99 1481.67 Q1292.93 1477.06 1292.93 1468.33 Q1292.93 1459.58 1295.99 1455 Q1299.07 1450.39 1304.88 1450.39 Z\" fill=\"#000000\" fill-rule=\"evenodd\" fill-opacity=\"1\" /><path clip-path=\"url(#clip440)\" d=\"M1656.22 1481.64 L1672.54 1481.64 L1672.54 1485.58 L1650.6 1485.58 L1650.6 1481.64 Q1653.26 1478.89 1657.84 1474.26 Q1662.45 1469.61 1663.63 1468.27 Q1665.87 1465.74 1666.75 1464.01 Q1667.66 1462.25 1667.66 1460.56 Q1667.66 1457.8 1665.71 1456.07 Q1663.79 1454.33 1660.69 1454.33 Q1658.49 1454.33 1656.04 1455.09 Q1653.61 1455.86 1650.83 1457.41 L1650.83 1452.69 Q1653.65 1451.55 1656.11 1450.97 Q1658.56 1450.39 1660.6 1450.39 Q1665.97 1450.39 1669.16 1453.08 Q1672.36 1455.77 1672.36 1460.26 Q1672.36 1462.39 1671.55 1464.31 Q1670.76 1466.2 1668.65 1468.8 Q1668.07 1469.47 1664.97 1472.69 Q1661.87 1475.88 1656.22 1481.64 Z\" fill=\"#000000\" fill-rule=\"evenodd\" fill-opacity=\"1\" /><path clip-path=\"url(#clip440)\" d=\"M1682.36 1479.7 L1687.24 1479.7 L1687.24 1485.58 L1682.36 1485.58 L1682.36 1479.7 Z\" fill=\"#000000\" fill-rule=\"evenodd\" fill-opacity=\"1\" /><path clip-path=\"url(#clip440)\" d=\"M1697.47 1451.02 L1715.83 1451.02 L1715.83 1454.96 L1701.75 1454.96 L1701.75 1463.43 Q1702.77 1463.08 1703.79 1462.92 Q1704.81 1462.73 1705.83 1462.73 Q1711.62 1462.73 1714.99 1465.9 Q1718.37 1469.08 1718.37 1474.49 Q1718.37 1480.07 1714.9 1483.17 Q1711.43 1486.25 1705.11 1486.25 Q1702.93 1486.25 1700.67 1485.88 Q1698.42 1485.51 1696.01 1484.77 L1696.01 1480.07 Q1698.1 1481.2 1700.32 1481.76 Q1702.54 1482.32 1705.02 1482.32 Q1709.02 1482.32 1711.36 1480.21 Q1713.7 1478.1 1713.7 1474.49 Q1713.7 1470.88 1711.36 1468.77 Q1709.02 1466.67 1705.02 1466.67 Q1703.14 1466.67 1701.27 1467.08 Q1699.42 1467.5 1697.47 1468.38 L1697.47 1451.02 Z\" fill=\"#000000\" fill-rule=\"evenodd\" fill-opacity=\"1\" /><path clip-path=\"url(#clip440)\" d=\"M2053.87 1451.02 L2072.23 1451.02 L2072.23 1454.96 L2058.15 1454.96 L2058.15 1463.43 Q2059.17 1463.08 2060.19 1462.92 Q2061.21 1462.73 2062.23 1462.73 Q2068.02 1462.73 2071.4 1465.9 Q2074.77 1469.08 2074.77 1474.49 Q2074.77 1480.07 2071.3 1483.17 Q2067.83 1486.25 2061.51 1486.25 Q2059.34 1486.25 2057.07 1485.88 Q2054.82 1485.51 2052.41 1484.77 L2052.41 1480.07 Q2054.5 1481.2 2056.72 1481.76 Q2058.94 1482.32 2061.42 1482.32 Q2065.42 1482.32 2067.76 1480.21 Q2070.1 1478.1 2070.1 1474.49 Q2070.1 1470.88 2067.76 1468.77 Q2065.42 1466.67 2061.42 1466.67 Q2059.54 1466.67 2057.67 1467.08 Q2055.82 1467.5 2053.87 1468.38 L2053.87 1451.02 Z\" fill=\"#000000\" fill-rule=\"evenodd\" fill-opacity=\"1\" /><path clip-path=\"url(#clip440)\" d=\"M2083.99 1479.7 L2088.87 1479.7 L2088.87 1485.58 L2083.99 1485.58 L2083.99 1479.7 Z\" fill=\"#000000\" fill-rule=\"evenodd\" fill-opacity=\"1\" /><path clip-path=\"url(#clip440)\" d=\"M2109.06 1454.1 Q2105.45 1454.1 2103.62 1457.66 Q2101.81 1461.2 2101.81 1468.33 Q2101.81 1475.44 2103.62 1479.01 Q2105.45 1482.55 2109.06 1482.55 Q2112.69 1482.55 2114.5 1479.01 Q2116.33 1475.44 2116.33 1468.33 Q2116.33 1461.2 2114.5 1457.66 Q2112.69 1454.1 2109.06 1454.1 M2109.06 1450.39 Q2114.87 1450.39 2117.92 1455 Q2121 1459.58 2121 1468.33 Q2121 1477.06 2117.92 1481.67 Q2114.87 1486.25 2109.06 1486.25 Q2103.25 1486.25 2100.17 1481.67 Q2097.11 1477.06 2097.11 1468.33 Q2097.11 1459.58 2100.17 1455 Q2103.25 1450.39 2109.06 1450.39 Z\" fill=\"#000000\" fill-rule=\"evenodd\" fill-opacity=\"1\" /><path clip-path=\"url(#clip440)\" d=\"M1295.92 1528.8 Q1295.92 1530.61 1294.8 1531.64 Q1293.67 1532.64 1292.38 1532.64 Q1291.16 1532.64 1290.51 1531.93 Q1289.87 1531.22 1289.87 1530.32 Q1289.87 1529.09 1290.77 1528.03 Q1291.67 1526.97 1293.03 1526.74 Q1291.71 1525.91 1289.74 1525.91 Q1288.45 1525.91 1287.33 1526.58 Q1286.23 1527.26 1285.55 1528.13 Q1284.91 1529 1284.33 1530.25 Q1283.78 1531.48 1283.56 1532.22 Q1283.36 1532.93 1283.2 1533.7 L1280.95 1542.72 Q1279.85 1547 1279.85 1548.51 Q1279.85 1550.38 1280.76 1551.64 Q1281.66 1552.86 1283.46 1552.86 Q1284.17 1552.86 1284.97 1552.67 Q1285.78 1552.44 1286.81 1551.86 Q1287.87 1551.25 1288.81 1550.35 Q1289.77 1549.42 1290.71 1547.84 Q1291.64 1546.26 1292.25 1544.23 Q1292.45 1543.52 1293.09 1543.52 Q1293.9 1543.52 1293.9 1544.17 Q1293.9 1544.71 1293.44 1545.87 Q1293.03 1547 1292.09 1548.48 Q1291.19 1549.93 1290 1551.25 Q1288.81 1552.54 1287.04 1553.44 Q1285.26 1554.34 1283.33 1554.34 Q1280.56 1554.34 1278.73 1552.86 Q1276.89 1551.38 1276.21 1549.32 Q1276.05 1549.61 1275.83 1550 Q1275.6 1550.38 1274.93 1551.25 Q1274.28 1552.09 1273.54 1552.73 Q1272.8 1553.34 1271.64 1553.83 Q1270.51 1554.34 1269.29 1554.34 Q1267.74 1554.34 1266.36 1553.89 Q1265.01 1553.44 1264.04 1552.41 Q1263.07 1551.38 1263.07 1549.96 Q1263.07 1548.38 1264.14 1547.29 Q1265.23 1546.16 1266.71 1546.16 Q1267.65 1546.16 1268.39 1546.71 Q1269.16 1547.26 1269.16 1548.45 Q1269.16 1549.77 1268.26 1550.77 Q1267.36 1551.77 1266.07 1552.02 Q1267.39 1552.86 1269.35 1552.86 Q1271.48 1552.86 1273.15 1550.99 Q1274.83 1549.13 1275.63 1546 Q1277.63 1538.5 1278.4 1535.15 Q1279.18 1531.77 1279.18 1530.32 Q1279.18 1528.96 1278.82 1528.03 Q1278.47 1527.1 1277.86 1526.68 Q1277.28 1526.23 1276.73 1526.07 Q1276.21 1525.91 1275.63 1525.91 Q1274.67 1525.91 1273.57 1526.29 Q1272.51 1526.68 1271.22 1527.58 Q1269.97 1528.45 1268.77 1530.25 Q1267.58 1532.06 1266.78 1534.54 Q1266.62 1535.28 1265.91 1535.28 Q1265.14 1535.24 1265.14 1534.6 Q1265.14 1534.05 1265.55 1532.93 Q1266.01 1531.77 1266.91 1530.32 Q1267.84 1528.87 1269.03 1527.58 Q1270.26 1526.26 1272.03 1525.36 Q1273.83 1524.46 1275.76 1524.46 Q1276.63 1524.46 1277.47 1524.65 Q1278.34 1524.81 1279.37 1525.29 Q1280.43 1525.78 1281.37 1526.84 Q1282.3 1527.9 1282.88 1529.45 Q1283.27 1528.71 1283.78 1528 Q1284.33 1527.29 1285.17 1526.42 Q1286.04 1525.52 1287.23 1525 Q1288.45 1524.46 1289.81 1524.46 Q1291.13 1524.46 1292.41 1524.81 Q1293.7 1525.13 1294.8 1526.19 Q1295.92 1527.23 1295.92 1528.8 Z\" fill=\"#000000\" fill-rule=\"evenodd\" fill-opacity=\"1\" /><polyline clip-path=\"url(#clip442)\" style=\"stroke:#000000; stroke-linecap:round; stroke-linejoin:round; stroke-width:2; stroke-opacity:0.1; fill:none\" points=\"210.746,1321.67 2352.76,1321.67 \"/>\n",
       "<polyline clip-path=\"url(#clip442)\" style=\"stroke:#000000; stroke-linecap:round; stroke-linejoin:round; stroke-width:2; stroke-opacity:0.1; fill:none\" points=\"210.746,1047.5 2352.76,1047.5 \"/>\n",
       "<polyline clip-path=\"url(#clip442)\" style=\"stroke:#000000; stroke-linecap:round; stroke-linejoin:round; stroke-width:2; stroke-opacity:0.1; fill:none\" points=\"210.746,773.327 2352.76,773.327 \"/>\n",
       "<polyline clip-path=\"url(#clip442)\" style=\"stroke:#000000; stroke-linecap:round; stroke-linejoin:round; stroke-width:2; stroke-opacity:0.1; fill:none\" points=\"210.746,499.153 2352.76,499.153 \"/>\n",
       "<polyline clip-path=\"url(#clip442)\" style=\"stroke:#000000; stroke-linecap:round; stroke-linejoin:round; stroke-width:2; stroke-opacity:0.1; fill:none\" points=\"210.746,224.979 2352.76,224.979 \"/>\n",
       "<polyline clip-path=\"url(#clip440)\" style=\"stroke:#000000; stroke-linecap:round; stroke-linejoin:round; stroke-width:4; stroke-opacity:1; fill:none\" points=\"210.746,1423.18 210.746,123.472 \"/>\n",
       "<polyline clip-path=\"url(#clip440)\" style=\"stroke:#000000; stroke-linecap:round; stroke-linejoin:round; stroke-width:4; stroke-opacity:1; fill:none\" points=\"210.746,1321.67 229.644,1321.67 \"/>\n",
       "<polyline clip-path=\"url(#clip440)\" style=\"stroke:#000000; stroke-linecap:round; stroke-linejoin:round; stroke-width:4; stroke-opacity:1; fill:none\" points=\"210.746,1047.5 229.644,1047.5 \"/>\n",
       "<polyline clip-path=\"url(#clip440)\" style=\"stroke:#000000; stroke-linecap:round; stroke-linejoin:round; stroke-width:4; stroke-opacity:1; fill:none\" points=\"210.746,773.327 229.644,773.327 \"/>\n",
       "<polyline clip-path=\"url(#clip440)\" style=\"stroke:#000000; stroke-linecap:round; stroke-linejoin:round; stroke-width:4; stroke-opacity:1; fill:none\" points=\"210.746,499.153 229.644,499.153 \"/>\n",
       "<polyline clip-path=\"url(#clip440)\" style=\"stroke:#000000; stroke-linecap:round; stroke-linejoin:round; stroke-width:4; stroke-opacity:1; fill:none\" points=\"210.746,224.979 229.644,224.979 \"/>\n",
       "<path clip-path=\"url(#clip440)\" d=\"M114.631 1322.13 L144.306 1322.13 L144.306 1326.06 L114.631 1326.06 L114.631 1322.13 Z\" fill=\"#000000\" fill-rule=\"evenodd\" fill-opacity=\"1\" /><path clip-path=\"url(#clip440)\" d=\"M158.427 1335.02 L174.746 1335.02 L174.746 1338.95 L152.802 1338.95 L152.802 1335.02 Q155.464 1332.26 160.047 1327.64 Q164.653 1322.98 165.834 1321.64 Q168.079 1319.12 168.959 1317.38 Q169.862 1315.62 169.862 1313.93 Q169.862 1311.18 167.917 1309.44 Q165.996 1307.7 162.894 1307.7 Q160.695 1307.7 158.241 1308.47 Q155.811 1309.23 153.033 1310.78 L153.033 1306.06 Q155.857 1304.93 158.311 1304.35 Q160.765 1303.77 162.802 1303.77 Q168.172 1303.77 171.366 1306.45 Q174.561 1309.14 174.561 1313.63 Q174.561 1315.76 173.751 1317.68 Q172.964 1319.58 170.857 1322.17 Q170.278 1322.84 167.177 1326.06 Q164.075 1329.26 158.427 1335.02 Z\" fill=\"#000000\" fill-rule=\"evenodd\" fill-opacity=\"1\" /><path clip-path=\"url(#clip440)\" d=\"M114.26 1047.95 L143.936 1047.95 L143.936 1051.89 L114.26 1051.89 L114.26 1047.95 Z\" fill=\"#000000\" fill-rule=\"evenodd\" fill-opacity=\"1\" /><path clip-path=\"url(#clip440)\" d=\"M154.839 1060.85 L162.477 1060.85 L162.477 1034.48 L154.167 1036.15 L154.167 1031.89 L162.431 1030.22 L167.107 1030.22 L167.107 1060.85 L174.746 1060.85 L174.746 1064.78 L154.839 1064.78 L154.839 1060.85 Z\" fill=\"#000000\" fill-rule=\"evenodd\" fill-opacity=\"1\" /><path clip-path=\"url(#clip440)\" d=\"M162.802 759.126 Q159.19 759.126 157.362 762.69 Q155.556 766.232 155.556 773.362 Q155.556 780.468 157.362 784.033 Q159.19 787.575 162.802 787.575 Q166.436 787.575 168.241 784.033 Q170.07 780.468 170.07 773.362 Q170.07 766.232 168.241 762.69 Q166.436 759.126 162.802 759.126 M162.802 755.422 Q168.612 755.422 171.667 760.028 Q174.746 764.612 174.746 773.362 Q174.746 782.089 171.667 786.695 Q168.612 791.278 162.802 791.278 Q156.991 791.278 153.913 786.695 Q150.857 782.089 150.857 773.362 Q150.857 764.612 153.913 760.028 Q156.991 755.422 162.802 755.422 Z\" fill=\"#000000\" fill-rule=\"evenodd\" fill-opacity=\"1\" /><path clip-path=\"url(#clip440)\" d=\"M154.839 512.498 L162.477 512.498 L162.477 486.132 L154.167 487.799 L154.167 483.54 L162.431 481.873 L167.107 481.873 L167.107 512.498 L174.746 512.498 L174.746 516.433 L154.839 516.433 L154.839 512.498 Z\" fill=\"#000000\" fill-rule=\"evenodd\" fill-opacity=\"1\" /><path clip-path=\"url(#clip440)\" d=\"M158.427 238.324 L174.746 238.324 L174.746 242.259 L152.802 242.259 L152.802 238.324 Q155.464 235.57 160.047 230.94 Q164.653 226.287 165.834 224.945 Q168.079 222.422 168.959 220.686 Q169.862 218.926 169.862 217.236 Q169.862 214.482 167.917 212.746 Q165.996 211.01 162.894 211.01 Q160.695 211.01 158.241 211.774 Q155.811 212.537 153.033 214.088 L153.033 209.366 Q155.857 208.232 158.311 207.653 Q160.765 207.074 162.802 207.074 Q168.172 207.074 171.366 209.76 Q174.561 212.445 174.561 216.936 Q174.561 219.065 173.751 220.986 Q172.964 222.885 170.857 225.477 Q170.278 226.148 167.177 229.366 Q164.075 232.56 158.427 238.324 Z\" fill=\"#000000\" fill-rule=\"evenodd\" fill-opacity=\"1\" /><path clip-path=\"url(#clip440)\" d=\"M30.8561 758.889 Q31.307 758.889 32.3698 759.178 L57.5548 765.491 Q63.1586 766.876 67.0877 771.384 Q71.0168 775.861 71.0168 780.95 Q71.0168 784.009 69.3743 785.974 Q67.764 787.938 65.2842 787.938 Q63.0942 787.938 62.0314 786.779 Q61.0008 785.619 61.0008 784.235 Q61.0008 783.784 61.1296 783.301 Q61.2584 782.817 61.8059 782.302 Q62.3534 781.787 63.2874 781.787 Q64.8011 781.787 65.9927 783.107 Q66.5402 783.751 66.669 784.363 Q66.7978 784.943 66.7978 785.941 Q67.6996 785.555 68.3115 784.846 Q68.9234 784.138 69.1489 783.333 Q69.4065 782.528 69.4709 782.012 Q69.5675 781.465 69.5675 780.95 Q69.5675 776.827 65.413 773.671 Q64.157 772.737 62.9009 772.061 Q61.6771 771.352 60.1634 770.837 Q58.682 770.322 57.8768 770.096 Q57.0717 769.839 55.2359 769.388 Q58.2311 772.383 58.2311 776.054 Q58.2311 777.6 57.8124 778.985 Q57.3937 780.338 56.5242 781.529 Q55.6224 782.721 54.0443 783.429 Q52.4662 784.106 50.3728 784.106 Q48.1506 784.106 45.1233 783.236 Q42.0959 782.367 36.5243 780.273 Q33.4004 779.146 31.8867 779.146 Q31.146 779.146 30.6951 779.307 Q30.212 779.468 30.051 779.79 Q29.8577 780.112 29.8255 780.305 Q29.7933 780.466 29.7933 780.789 Q29.7933 782.689 31.7257 784.46 Q33.658 786.231 37.9736 787.455 Q38.7787 787.713 38.972 787.874 Q39.1652 788.035 39.1652 788.518 Q39.133 789.323 38.4889 789.323 Q38.2312 789.323 37.2329 789.033 Q36.2023 788.743 34.6886 788.067 Q33.1427 787.359 31.7579 786.392 Q30.3408 785.426 29.3424 783.912 Q28.344 782.367 28.344 780.595 Q28.344 778.18 29.9221 776.698 Q31.468 775.185 33.7546 775.185 Q34.6886 775.185 35.5259 775.442 Q36.3311 775.668 38.4889 776.505 Q47.1845 779.887 51.4356 779.887 Q52.4662 779.887 53.3358 779.726 Q54.1731 779.532 55.0105 779.114 Q55.8156 778.695 56.2987 777.858 Q56.7496 776.988 56.7496 775.797 Q56.7496 774.283 56.0411 772.866 Q55.3003 771.417 54.302 770.515 Q53.3036 769.581 52.4662 769.033 Q51.5967 768.454 51.1458 768.325 L39.294 765.362 L34.0123 764.041 Q31.146 763.43 30.4374 763.14 Q29.7611 762.753 29.4068 762.077 Q29.0526 761.401 29.0526 760.821 Q29.0526 760.016 29.5357 759.468 Q30.0187 758.889 30.8561 758.889 Z\" fill=\"#000000\" fill-rule=\"evenodd\" fill-opacity=\"1\" /><path clip-path=\"url(#clip440)\" d=\"M992.496 63.9476 L992.496 47.7034 L979.128 47.7034 L979.128 40.9789 L1000.6 40.9789 L1000.6 66.9452 Q995.858 70.3075 990.147 72.0494 Q984.435 73.7508 977.953 73.7508 Q963.775 73.7508 955.754 65.4869 Q947.774 57.1826 947.774 42.3968 Q947.774 27.5705 955.754 19.3066 Q963.775 11.0023 977.953 11.0023 Q983.868 11.0023 989.174 12.4606 Q994.522 13.9189 999.018 16.7545 L999.018 25.464 Q994.481 21.6156 989.377 19.6712 Q984.273 17.7268 978.642 17.7268 Q967.543 17.7268 961.952 23.9246 Q956.403 30.1225 956.403 42.3968 Q956.403 54.6305 961.952 60.8284 Q967.543 67.0263 978.642 67.0263 Q982.976 67.0263 986.379 66.2971 Q989.782 65.5274 992.496 63.9476 Z\" fill=\"#000000\" fill-rule=\"evenodd\" fill-opacity=\"1\" /><path clip-path=\"url(#clip440)\" d=\"M1041.51 34.1734 Q1040.26 33.4443 1038.76 33.1202 Q1037.3 32.7556 1035.52 32.7556 Q1029.2 32.7556 1025.79 36.8875 Q1022.43 40.9789 1022.43 48.6757 L1022.43 72.576 L1014.94 72.576 L1014.94 27.2059 L1022.43 27.2059 L1022.43 34.2544 Q1024.78 30.1225 1028.55 28.1376 Q1032.32 26.1121 1037.7 26.1121 Q1038.47 26.1121 1039.41 26.2337 Q1040.34 26.3147 1041.47 26.5172 L1041.51 34.1734 Z\" fill=\"#000000\" fill-rule=\"evenodd\" fill-opacity=\"1\" /><path clip-path=\"url(#clip440)\" d=\"M1069.95 49.7694 Q1060.92 49.7694 1057.43 51.8354 Q1053.95 53.9013 1053.95 58.8839 Q1053.95 62.8538 1056.54 65.2034 Q1059.17 67.5124 1063.67 67.5124 Q1069.87 67.5124 1073.6 63.1374 Q1077.36 58.7219 1077.36 51.4303 L1077.36 49.7694 L1069.95 49.7694 M1084.82 46.6907 L1084.82 72.576 L1077.36 72.576 L1077.36 65.6895 Q1074.81 69.8214 1071 71.8063 Q1067.19 73.7508 1061.69 73.7508 Q1054.72 73.7508 1050.59 69.8619 Q1046.49 65.9325 1046.49 59.3701 Q1046.49 51.7138 1051.6 47.825 Q1056.74 43.9361 1066.91 43.9361 L1077.36 43.9361 L1077.36 43.2069 Q1077.36 38.0623 1073.96 35.2672 Q1070.6 32.4315 1064.48 32.4315 Q1060.59 32.4315 1056.91 33.3632 Q1053.22 34.295 1049.82 36.1584 L1049.82 29.2718 Q1053.91 27.692 1057.76 26.9223 Q1061.6 26.1121 1065.25 26.1121 Q1075.09 26.1121 1079.96 31.2163 Q1084.82 36.3204 1084.82 46.6907 M1071.21 6.22219 L1079.27 6.22219 L1066.06 21.4536 L1059.86 21.4536 L1071.21 6.22219 Z\" fill=\"#000000\" fill-rule=\"evenodd\" fill-opacity=\"1\" /><path clip-path=\"url(#clip440)\" d=\"M1123.14 9.54393 L1123.14 15.7418 L1116.01 15.7418 Q1112 15.7418 1110.42 17.3622 Q1108.88 18.9825 1108.88 23.1955 L1108.88 27.2059 L1121.15 27.2059 L1121.15 32.9987 L1108.88 32.9987 L1108.88 72.576 L1101.38 72.576 L1101.38 32.9987 L1094.25 32.9987 L1094.25 27.2059 L1101.38 27.2059 L1101.38 24.0462 Q1101.38 16.471 1104.91 13.0277 Q1108.43 9.54393 1116.09 9.54393 L1123.14 9.54393 Z\" fill=\"#000000\" fill-rule=\"evenodd\" fill-opacity=\"1\" /><path clip-path=\"url(#clip440)\" d=\"M1129.38 27.2059 L1136.83 27.2059 L1136.83 72.576 L1129.38 72.576 L1129.38 27.2059 M1129.38 9.54393 L1136.83 9.54393 L1136.83 18.9825 L1129.38 18.9825 L1129.38 9.54393 Z\" fill=\"#000000\" fill-rule=\"evenodd\" fill-opacity=\"1\" /><path clip-path=\"url(#clip440)\" d=\"M1185.08 28.9478 L1185.08 35.9153 Q1181.92 34.1734 1178.72 33.3227 Q1175.56 32.4315 1172.32 32.4315 Q1165.06 32.4315 1161.05 37.0496 Q1157.04 41.6271 1157.04 49.9314 Q1157.04 58.2358 1161.05 62.8538 Q1165.06 67.4314 1172.32 67.4314 Q1175.56 67.4314 1178.72 66.5807 Q1181.92 65.6895 1185.08 63.9476 L1185.08 70.8341 Q1181.96 72.2924 1178.59 73.0216 Q1175.27 73.7508 1171.51 73.7508 Q1161.26 73.7508 1155.22 67.3098 Q1149.19 60.8689 1149.19 49.9314 Q1149.19 38.832 1155.26 32.472 Q1161.38 26.1121 1171.99 26.1121 Q1175.43 26.1121 1178.72 26.8413 Q1182 27.5299 1185.08 28.9478 Z\" fill=\"#000000\" fill-rule=\"evenodd\" fill-opacity=\"1\" /><path clip-path=\"url(#clip440)\" d=\"M1215.62 32.4315 Q1209.62 32.4315 1206.14 37.1306 Q1202.66 41.7891 1202.66 49.9314 Q1202.66 58.0738 1206.1 62.7728 Q1209.58 67.4314 1215.62 67.4314 Q1221.57 67.4314 1225.06 62.7323 Q1228.54 58.0333 1228.54 49.9314 Q1228.54 41.8701 1225.06 37.1711 Q1221.57 32.4315 1215.62 32.4315 M1215.62 26.1121 Q1225.34 26.1121 1230.89 32.4315 Q1236.44 38.7509 1236.44 49.9314 Q1236.44 61.0714 1230.89 67.4314 Q1225.34 73.7508 1215.62 73.7508 Q1205.86 73.7508 1200.31 67.4314 Q1194.8 61.0714 1194.8 49.9314 Q1194.8 38.7509 1200.31 32.4315 Q1205.86 26.1121 1215.62 26.1121 Z\" fill=\"#000000\" fill-rule=\"evenodd\" fill-opacity=\"1\" /><path clip-path=\"url(#clip440)\" d=\"M1313.98 48.0275 L1313.98 51.6733 L1279.71 51.6733 Q1280.19 59.3701 1284.32 63.421 Q1288.5 67.4314 1295.91 67.4314 Q1300.2 67.4314 1304.21 66.3781 Q1308.26 65.3249 1312.23 63.2184 L1312.23 70.267 Q1308.22 71.9684 1304.01 72.8596 Q1299.8 73.7508 1295.46 73.7508 Q1284.61 73.7508 1278.25 67.4314 Q1271.93 61.1119 1271.93 50.3365 Q1271.93 39.1965 1277.92 32.6746 Q1283.96 26.1121 1294.17 26.1121 Q1303.32 26.1121 1308.63 32.0264 Q1313.98 37.9003 1313.98 48.0275 M1306.52 45.84 Q1306.44 39.7232 1303.08 36.0774 Q1299.76 32.4315 1294.25 32.4315 Q1288.01 32.4315 1284.24 35.9558 Q1280.52 39.4801 1279.95 45.8805 L1306.52 45.84 Z\" fill=\"#000000\" fill-rule=\"evenodd\" fill-opacity=\"1\" /><path clip-path=\"url(#clip440)\" d=\"M1326.21 27.2059 L1333.66 27.2059 L1333.66 73.3862 Q1333.66 82.0551 1330.34 85.944 Q1327.06 89.8329 1319.73 89.8329 L1316.89 89.8329 L1316.89 83.5134 L1318.88 83.5134 Q1323.13 83.5134 1324.67 81.5285 Q1326.21 79.5841 1326.21 73.3862 L1326.21 27.2059 M1326.21 9.54393 L1333.66 9.54393 L1333.66 18.9825 L1326.21 18.9825 L1326.21 9.54393 Z\" fill=\"#000000\" fill-rule=\"evenodd\" fill-opacity=\"1\" /><path clip-path=\"url(#clip440)\" d=\"M1388.07 48.0275 L1388.07 51.6733 L1353.8 51.6733 Q1354.28 59.3701 1358.41 63.421 Q1362.59 67.4314 1370 67.4314 Q1374.29 67.4314 1378.3 66.3781 Q1382.36 65.3249 1386.33 63.2184 L1386.33 70.267 Q1382.31 71.9684 1378.1 72.8596 Q1373.89 73.7508 1369.55 73.7508 Q1358.7 73.7508 1352.34 67.4314 Q1346.02 61.1119 1346.02 50.3365 Q1346.02 39.1965 1352.01 32.6746 Q1358.05 26.1121 1368.26 26.1121 Q1377.41 26.1121 1382.72 32.0264 Q1388.07 37.9003 1388.07 48.0275 M1380.61 45.84 Q1380.53 39.7232 1377.17 36.0774 Q1373.85 32.4315 1368.34 32.4315 Q1362.1 32.4315 1358.33 35.9558 Q1354.61 39.4801 1354.04 45.8805 L1380.61 45.84 Z\" fill=\"#000000\" fill-rule=\"evenodd\" fill-opacity=\"1\" /><path clip-path=\"url(#clip440)\" d=\"M1435.62 35.9153 Q1438.42 30.8922 1442.31 28.5022 Q1446.2 26.1121 1451.46 26.1121 Q1458.55 26.1121 1462.4 31.0947 Q1466.25 36.0368 1466.25 45.1919 L1466.25 72.576 L1458.76 72.576 L1458.76 45.4349 Q1458.76 38.913 1456.45 35.7533 Q1454.14 32.5936 1449.4 32.5936 Q1443.6 32.5936 1440.24 36.4419 Q1436.88 40.2903 1436.88 46.9338 L1436.88 72.576 L1429.39 72.576 L1429.39 45.4349 Q1429.39 38.8725 1427.08 35.7533 Q1424.77 32.5936 1419.95 32.5936 Q1414.24 32.5936 1410.87 36.4824 Q1407.51 40.3308 1407.51 46.9338 L1407.51 72.576 L1400.02 72.576 L1400.02 27.2059 L1407.51 27.2059 L1407.51 34.2544 Q1410.06 30.082 1413.63 28.0971 Q1417.19 26.1121 1422.09 26.1121 Q1427.04 26.1121 1430.48 28.6237 Q1433.96 31.1352 1435.62 35.9153 Z\" fill=\"#000000\" fill-rule=\"evenodd\" fill-opacity=\"1\" /><path clip-path=\"url(#clip440)\" d=\"M1488.33 65.7705 L1488.33 89.8329 L1480.83 89.8329 L1480.83 27.2059 L1488.33 27.2059 L1488.33 34.0924 Q1490.68 30.0415 1494.24 28.0971 Q1497.85 26.1121 1502.83 26.1121 Q1511.09 26.1121 1516.24 32.6746 Q1521.42 39.2371 1521.42 49.9314 Q1521.42 60.6258 1516.24 67.1883 Q1511.09 73.7508 1502.83 73.7508 Q1497.85 73.7508 1494.24 71.8063 Q1490.68 69.8214 1488.33 65.7705 M1513.69 49.9314 Q1513.69 41.7081 1510.28 37.0496 Q1506.92 32.3505 1501.01 32.3505 Q1495.09 32.3505 1491.69 37.0496 Q1488.33 41.7081 1488.33 49.9314 Q1488.33 58.1548 1491.69 62.8538 Q1495.09 67.5124 1501.01 67.5124 Q1506.92 67.5124 1510.28 62.8538 Q1513.69 58.1548 1513.69 49.9314 Z\" fill=\"#000000\" fill-rule=\"evenodd\" fill-opacity=\"1\" /><path clip-path=\"url(#clip440)\" d=\"M1533.78 9.54393 L1541.23 9.54393 L1541.23 72.576 L1533.78 72.576 L1533.78 9.54393 Z\" fill=\"#000000\" fill-rule=\"evenodd\" fill-opacity=\"1\" /><path clip-path=\"url(#clip440)\" d=\"M1574.41 32.4315 Q1568.41 32.4315 1564.93 37.1306 Q1561.45 41.7891 1561.45 49.9314 Q1561.45 58.0738 1564.89 62.7728 Q1568.37 67.4314 1574.41 67.4314 Q1580.36 67.4314 1583.85 62.7323 Q1587.33 58.0333 1587.33 49.9314 Q1587.33 41.8701 1583.85 37.1711 Q1580.36 32.4315 1574.41 32.4315 M1574.41 26.1121 Q1584.13 26.1121 1589.68 32.4315 Q1595.23 38.7509 1595.23 49.9314 Q1595.23 61.0714 1589.68 67.4314 Q1584.13 73.7508 1574.41 73.7508 Q1564.65 73.7508 1559.1 67.4314 Q1553.59 61.0714 1553.59 49.9314 Q1553.59 38.7509 1559.1 32.4315 Q1564.65 26.1121 1574.41 26.1121 Z\" fill=\"#000000\" fill-rule=\"evenodd\" fill-opacity=\"1\" /><path clip-path=\"url(#clip440)\" d=\"M1607.18 62.2867 L1615.73 62.2867 L1615.73 72.576 L1607.18 72.576 L1607.18 62.2867 Z\" fill=\"#000000\" fill-rule=\"evenodd\" fill-opacity=\"1\" /><polyline clip-path=\"url(#clip442)\" style=\"stroke:#ff0000; stroke-linecap:round; stroke-linejoin:round; stroke-width:10; stroke-opacity:1; fill:none\" stroke-dasharray=\"40, 25\" points=\"776.816,1047.5 778.425,1052.97 780.034,1058.41 781.643,1063.83 783.252,1069.21 784.861,1074.56 786.469,1079.89 788.078,1085.18 789.687,1090.44 791.296,1095.68 792.905,1100.87 794.514,1106.04 796.123,1111.17 797.732,1116.27 799.341,1121.34 800.949,1126.37 802.558,1131.36 804.167,1136.32 805.776,1141.24 807.385,1146.13 808.994,1150.98 810.603,1155.79 812.212,1160.56 813.821,1165.29 815.429,1169.99 817.038,1174.64 818.647,1179.26 820.256,1183.83 821.865,1188.36 823.474,1192.85 825.083,1197.3 826.692,1201.71 828.301,1206.07 829.909,1210.4 831.518,1214.67 833.127,1218.91 834.736,1223.09 836.345,1227.24 837.954,1231.34 839.563,1235.39 841.172,1239.39 842.781,1243.35 844.389,1247.27 845.998,1251.13 847.607,1254.95 849.216,1258.72 850.825,1262.44 852.434,1266.11 854.043,1269.73 855.652,1273.31 857.261,1276.83 858.869,1280.3 860.478,1283.72 862.087,1287.09 863.696,1290.41 865.305,1293.68 866.914,1296.9 868.523,1300.06 870.132,1303.17 871.741,1306.23 873.349,1309.23 874.958,1312.18 876.567,1315.08 878.176,1317.92 879.785,1320.71 881.394,1323.44 883.003,1326.12 884.612,1328.75 886.221,1331.31 887.829,1333.83 889.438,1336.28 891.047,1338.68 892.656,1341.02 894.265,1343.31 895.874,1345.54 897.483,1347.71 899.092,1349.83 900.701,1351.88 902.309,1353.88 903.918,1355.82 905.527,1357.71 907.136,1359.53 908.745,1361.3 910.354,1363 911.963,1364.65 913.572,1366.24 915.181,1367.77 916.789,1369.24 918.398,1370.65 920.007,1372 921.616,1373.29 923.225,1374.52 924.834,1375.69 926.443,1376.8 928.052,1377.85 929.661,1378.84 931.269,1379.77 932.878,1380.64 934.487,1381.45 936.096,1382.2 937.705,1382.88 939.314,1383.51 940.923,1384.07 942.532,1384.57 944.141,1385.02 945.749,1385.4 947.358,1385.72 948.967,1385.98 950.576,1386.17 952.185,1386.31 953.794,1386.38 955.403,1386.4 957.012,1386.35 958.621,1386.24 960.229,1386.07 961.838,1385.84 963.447,1385.54 965.056,1385.19 966.665,1384.77 968.274,1384.3 969.883,1383.76 971.492,1383.16 973.101,1382.5 974.709,1381.78 976.318,1381 977.927,1380.15 979.536,1379.25 981.145,1378.29 982.754,1377.26 984.363,1376.18 985.972,1375.03 987.581,1373.83 989.189,1372.56 990.798,1371.24 992.407,1369.85 994.016,1368.41 995.625,1366.9 997.234,1365.34 998.843,1363.72 1000.45,1362.04 1002.06,1360.3 1003.67,1358.5 1005.28,1356.64 1006.89,1354.72 1008.5,1352.75 1010.1,1350.72 1011.71,1348.63 1013.32,1346.48 1014.93,1344.28 1016.54,1342.01 1018.15,1339.7 1019.76,1337.32 1021.37,1334.89 1022.98,1332.4 1024.58,1329.86 1026.19,1327.26 1027.8,1324.6 1029.41,1321.89 1031.02,1319.13 1032.63,1316.31 1034.24,1313.43 1035.85,1310.51 1037.46,1307.53 1039.06,1304.49 1040.67,1301.4 1042.28,1298.26 1043.89,1295.07 1045.5,1291.82 1047.11,1288.53 1048.72,1285.18 1050.33,1281.78 1051.94,1278.33 1053.54,1274.83 1055.15,1271.27 1056.76,1267.67 1058.37,1264.02 1059.98,1260.32 1061.59,1256.57 1063.2,1252.78 1064.81,1248.93 1066.42,1245.04 1068.02,1241.1 1069.63,1237.12 1071.24,1233.08 1072.85,1229 1074.46,1224.88 1076.07,1220.71 1077.68,1216.5 1079.29,1212.24 1080.9,1207.94 1082.5,1203.59 1084.11,1199.2 1085.72,1194.77 1087.33,1190.3 1088.94,1185.78 1090.55,1181.23 1092.16,1176.63 1093.77,1171.99 1095.38,1167.31 1096.98,1162.6 1098.59,1157.84 1100.2,1153.05 1101.81,1148.22 1103.42,1143.35 1105.03,1138.44 1106.64,1133.5 1108.25,1128.52 1109.86,1123.5 1111.46,1118.45 1113.07,1113.37 1114.68,1108.25 1116.29,1103.1 1117.9,1097.91 1119.51,1092.7 1121.12,1087.45 1122.73,1082.17 1124.34,1076.86 1125.94,1071.51 1127.55,1066.14 1129.16,1060.74 1130.77,1055.31 1132.38,1049.85 1133.99,1044.37 1135.6,1038.86 1137.21,1033.32 1138.82,1027.75 1140.42,1022.16 1142.03,1016.55 1143.64,1010.91 1145.25,1005.24 1146.86,999.557 1148.47,993.848 1150.08,988.117 1151.69,982.364 1153.3,976.59 1154.9,970.796 1156.51,964.982 1158.12,959.149 1159.73,953.298 1161.34,947.428 1162.95,941.542 1164.56,935.638 1166.17,929.718 1167.78,923.782 1169.38,917.832 1170.99,911.866 1172.6,905.888 1174.21,899.895 1175.82,893.89 1177.43,887.874 1179.04,881.845 1180.65,875.806 1182.26,869.756 1183.86,863.697 1185.47,857.629 1187.08,851.553 1188.69,845.468 1190.3,839.377 1191.91,833.278 1193.52,827.174 1195.13,821.064 1196.74,814.95 1198.34,808.832 1199.95,802.709 1201.56,796.584 1203.17,790.457 1204.78,784.328 1206.39,778.198 1208,772.067 1209.61,765.937 1211.22,759.807 1212.82,753.678 1214.43,747.552 1216.04,741.428 1217.65,735.307 1219.26,729.19 1220.87,723.078 1222.48,716.97 1224.09,710.869 1225.7,704.773 1227.3,698.684 1228.91,692.603 1230.52,686.53 1232.13,680.465 1233.74,674.41 1235.35,668.365 1236.96,662.33 1238.57,656.306 1240.18,650.294 1241.78,644.294 1243.39,638.308 1245,632.334 1246.61,626.375 1248.22,620.43 1249.83,614.501 1251.44,608.588 1253.05,602.691 1254.66,596.811 1256.26,590.949 1257.87,585.105 1259.48,579.28 1261.09,573.474 1262.7,567.688 1264.31,561.923 1265.92,556.179 1267.53,550.457 1269.14,544.757 1270.74,539.08 1272.35,533.426 1273.96,527.796 1275.57,522.191 1277.18,516.611 1278.79,511.056 1280.4,505.528 1282.01,500.027 1283.62,494.553 1285.22,489.107 1286.83,483.689 1288.44,478.3 1290.05,472.941 1291.66,467.611 1293.27,462.313 1294.88,457.045 1296.49,451.809 1298.1,446.605 1299.7,441.434 1301.31,436.296 1302.92,431.192 1304.53,426.122 1306.14,421.087 1307.75,416.086 1309.36,411.122 1310.97,406.194 1312.58,401.303 1314.18,396.448 1315.79,391.632 1317.4,386.853 1319.01,382.114 1320.62,377.413 1322.23,372.752 1323.84,368.131 1325.45,363.551 1327.06,359.011 1328.66,354.513 1330.27,350.057 1331.88,345.643 1333.49,341.272 1335.1,336.944 1336.71,332.66 1338.32,328.42 1339.93,324.224 1341.54,320.073 1343.14,315.968 1344.75,311.908 1346.36,307.895 1347.97,303.928 1349.58,300.007 1351.19,296.135 1352.8,292.31 1354.41,288.533 1356.02,284.804 1357.62,281.125 1359.23,277.494 1360.84,273.914 1362.45,270.383 1364.06,266.902 1365.67,263.472 1367.28,260.093 1368.89,256.766 1370.5,253.49 1372.1,250.266 1373.71,247.094 1375.32,243.975 1376.93,240.909 1378.54,237.896 1380.15,234.937 1381.76,232.031 1383.37,229.18 1384.98,226.383 1386.58,223.641 1388.19,220.954 1389.8,218.322 1391.41,215.745 1393.02,213.224 1394.63,210.76 1396.24,208.351 1397.85,205.999 1399.46,203.704 1401.06,201.465 1402.67,199.284 1404.28,197.161 1405.89,195.094 1407.5,193.086 1409.11,191.136 1410.72,189.244 1412.33,187.41 1413.94,185.635 1415.54,183.919 1417.15,182.261 1418.76,180.663 1420.37,179.124 1421.98,177.645 1423.59,176.225 1425.2,174.864 1426.81,173.564 1428.42,172.324 1430.02,171.143 1431.63,170.023 1433.24,168.963 1434.85,167.964 1436.46,167.025 1438.07,166.147 1439.68,165.329 1441.29,164.573 1442.9,163.877 1444.5,163.242 1446.11,162.668 1447.72,162.155 1449.33,161.704 1450.94,161.313 1452.55,160.984 1454.16,160.716 1455.77,160.509 1457.38,160.363 1458.98,160.279 1460.59,160.256 1462.2,160.295 1463.81,160.394 1465.42,160.555 1467.03,160.778 1468.64,161.061 1470.25,161.406 1471.86,161.812 1473.46,162.279 1475.07,162.807 1476.68,163.396 1478.29,164.046 1479.9,164.757 1481.51,165.529 1483.12,166.362 1484.73,167.256 1486.34,168.21 1487.94,169.224 1489.55,170.299 1491.16,171.435 1492.77,172.63 1494.38,173.886 1495.99,175.201 1497.6,176.577 1499.21,178.012 1500.82,179.506 1502.42,181.06 1504.03,182.673 1505.64,184.345 1507.25,186.076 1508.86,187.866 1510.47,189.715 1512.08,191.621 1513.69,193.586 1515.3,195.609 1516.9,197.69 1518.51,199.828 1520.12,202.023 1521.73,204.276 1523.34,206.586 1524.95,208.952 1526.56,211.375 1528.17,213.854 1529.78,216.388 1531.38,218.979 1532.99,221.625 1534.6,224.326 1536.21,227.082 1537.82,229.893 1539.43,232.758 1541.04,235.677 1542.65,238.65 1544.26,241.676 1545.86,244.755 1547.47,247.888 1549.08,251.073 1550.69,254.31 1552.3,257.599 1553.91,260.939 1555.52,264.331 1557.13,267.774 1558.74,271.267 1560.34,274.81 1561.95,278.404 1563.56,282.046 1565.17,285.738 1566.78,289.479 1568.39,293.268 1570,297.105 1571.61,300.99 1573.22,304.922 1574.82,308.901 1576.43,312.926 1578.04,316.997 1579.65,321.114 1581.26,325.276 1582.87,329.483 1584.48,333.734 1586.09,338.029 1587.7,342.368 1589.3,346.75 1590.91,351.175 1592.52,355.641 1594.13,360.15 1595.74,364.7 1597.35,369.29 1598.96,373.921 1600.57,378.593 1602.18,383.303 1603.78,388.053 1605.39,392.841 1607,397.667 1608.61,402.53 1610.22,407.431 1611.83,412.368 1613.44,417.342 1615.05,422.351 1616.66,427.395 1618.26,432.474 1619.87,437.586 1621.48,442.733 1623.09,447.912 1624.7,453.124 1626.31,458.368 1627.92,463.644 1629.53,468.95 1631.14,474.287 1632.74,479.654 1634.35,485.05 1635.96,490.475 1637.57,495.928 1639.18,501.409 1640.79,506.917 1642.4,512.452 1644.01,518.013 1645.62,523.6 1647.22,529.211 1648.83,534.847 1650.44,540.507 1652.05,546.19 1653.66,551.895 1655.27,557.623 1656.88,563.372 1658.49,569.143 1660.1,574.934 1661.7,580.744 1663.31,586.574 1664.92,592.423 1666.53,598.29 1668.14,604.174 1669.75,610.075 1671.36,615.992 1672.97,621.925 1674.58,627.874 1676.18,633.837 1677.79,639.813 1679.4,645.803 1681.01,651.806 1682.62,657.821 1684.23,663.848 1685.84,669.886 1687.45,675.933 1689.06,681.991 1690.66,688.058 1692.27,694.133 1693.88,700.216 1695.49,706.307 1697.1,712.404 1698.71,718.507 1700.32,724.616 1701.93,730.73 1703.54,736.848 1705.14,742.969 1706.75,749.094 1708.36,755.221 1709.97,761.35 1711.58,767.48 1713.19,773.61 1714.8,779.741 1716.41,785.871 1718.02,792 1719.62,798.126 1721.23,804.251 1722.84,810.372 1724.45,816.49 1726.06,822.603 1727.67,828.711 1729.28,834.814 1730.89,840.911 1732.5,847 1734.1,853.083 1735.71,859.157 1737.32,865.223 1738.93,871.28 1740.54,877.327 1742.15,883.364 1743.76,889.389 1745.37,895.403 1746.98,901.405 1748.58,907.394 1750.19,913.369 1751.8,919.331 1753.41,925.278 1755.02,931.21 1756.63,937.125 1758.24,943.025 1759.85,948.908 1761.46,954.773 1763.06,960.62 1764.67,966.448 1766.28,972.257 1767.89,978.045 1769.5,983.814 1771.11,989.561 1772.72,995.287 1774.33,1000.99 1775.94,1006.67 1777.54,1012.33 1779.15,1017.96 1780.76,1023.57 1782.37,1029.16 1783.98,1034.71 1785.59,1040.25 1787.2,1045.75 \"/>\n",
       "<polyline clip-path=\"url(#clip442)\" style=\"stroke:#0000ff; stroke-linecap:round; stroke-linejoin:round; stroke-width:10; stroke-opacity:1; fill:none\" points=\"271.369,499.153 272.978,499.167 274.587,499.208 276.196,499.277 277.804,499.373 279.413,499.496 281.022,499.647 282.631,499.825 284.24,500.03 285.849,500.263 287.458,500.523 289.067,500.81 290.676,501.125 292.284,501.467 293.893,501.836 295.502,502.232 297.111,502.655 298.72,503.106 300.329,503.583 301.938,504.087 303.547,504.618 305.156,505.177 306.764,505.762 308.373,506.373 309.982,507.012 311.591,507.677 313.2,508.368 314.809,509.086 316.418,509.831 318.027,510.602 319.636,511.399 321.244,512.222 322.853,513.072 324.462,513.947 326.071,514.848 327.68,515.776 329.289,516.729 330.898,517.707 332.507,518.712 334.116,519.741 335.724,520.796 337.333,521.877 338.942,522.982 340.551,524.112 342.16,525.268 343.769,526.448 345.378,527.653 346.987,528.882 348.596,530.136 350.204,531.414 351.813,532.717 353.422,534.043 355.031,535.394 356.64,536.768 358.249,538.166 359.858,539.587 361.467,541.032 363.076,542.5 364.684,543.991 366.293,545.505 367.902,547.042 369.511,548.601 371.12,550.183 372.729,551.787 374.338,553.413 375.947,555.062 377.556,556.732 379.164,558.424 380.773,560.137 382.382,561.872 383.991,563.627 385.6,565.404 387.209,567.202 388.818,569.02 390.427,570.858 392.036,572.717 393.644,574.596 395.253,576.495 396.862,578.413 398.471,580.351 400.08,582.308 401.689,584.285 403.298,586.28 404.907,588.294 406.516,590.326 408.124,592.377 409.733,594.446 411.342,596.532 412.951,598.637 414.56,600.759 416.169,602.898 417.778,605.054 419.387,607.227 420.996,609.417 422.604,611.623 424.213,613.845 425.822,616.083 427.431,618.337 429.04,620.606 430.649,622.891 432.258,625.19 433.867,627.505 435.476,629.834 437.084,632.177 438.693,634.535 440.302,636.906 441.911,639.291 443.52,641.69 445.129,644.101 446.738,646.526 448.347,648.963 449.956,651.412 451.564,653.874 453.173,656.348 454.782,658.834 456.391,661.33 458,663.839 459.609,666.358 461.218,668.887 462.827,671.428 464.436,673.978 466.044,676.538 467.653,679.108 469.262,681.688 470.871,684.276 472.48,686.874 474.089,689.48 475.698,692.095 477.307,694.717 478.916,697.348 480.524,699.986 482.133,702.631 483.742,705.284 485.351,707.943 486.96,710.609 488.569,713.281 490.178,715.959 491.787,718.643 493.395,721.332 495.004,724.027 496.613,726.726 498.222,729.431 499.831,732.139 501.44,734.852 503.049,737.568 504.658,740.288 506.267,743.012 507.875,745.738 509.484,748.467 511.093,751.199 512.702,753.933 514.311,756.668 515.92,759.406 517.529,762.145 519.138,764.885 520.747,767.626 522.355,770.367 523.964,773.109 525.573,770.804 527.182,768.062 528.791,765.321 530.4,762.581 532.009,759.842 533.618,757.104 535.227,754.368 536.835,751.634 538.444,748.902 540.053,746.173 541.662,743.446 543.271,740.722 544.88,738.001 546.489,735.284 548.098,732.571 549.707,729.862 551.315,727.157 552.924,724.457 554.533,721.761 556.142,719.071 557.751,716.386 559.36,713.707 560.969,711.034 562.578,708.367 564.187,705.707 565.795,703.053 567.404,700.407 569.013,697.767 570.622,695.136 572.231,692.512 573.84,689.896 575.449,687.288 577.058,684.689 578.667,682.099 580.275,679.519 581.884,676.947 583.493,674.385 585.102,671.833 586.711,669.291 588.32,666.76 589.929,664.239 591.538,661.729 593.147,659.23 594.755,656.743 596.364,654.267 597.973,651.804 599.582,649.352 601.191,646.913 602.8,644.486 604.409,642.073 606.018,639.672 607.627,637.285 609.235,634.911 610.844,632.552 612.453,630.206 614.062,627.875 615.671,625.558 617.28,623.256 618.889,620.969 620.498,618.697 622.107,616.441 623.715,614.2 625.324,611.975 626.933,609.767 628.542,607.575 630.151,605.399 631.76,603.24 633.369,601.098 634.978,598.974 636.587,596.866 638.195,594.777 639.804,592.705 641.413,590.652 643.022,588.616 644.631,586.599 646.24,584.601 647.849,582.622 649.458,580.662 651.067,578.72 652.675,576.799 654.284,574.897 655.893,573.015 657.502,571.153 659.111,569.311 660.72,567.49 662.329,565.689 663.938,563.909 665.547,562.15 667.155,560.412 668.764,558.695 670.373,557 671.982,555.326 673.591,553.674 675.2,552.045 676.809,550.437 678.418,548.851 680.027,547.288 681.635,545.748 683.244,544.23 684.853,542.736 686.462,541.264 688.071,539.816 689.68,538.391 691.289,536.989 692.898,535.611 694.507,534.257 696.115,532.927 697.724,531.62 699.333,530.338 700.942,529.08 702.551,527.847 704.16,526.638 705.769,525.454 707.378,524.295 708.987,523.16 710.595,522.051 712.204,520.967 713.813,519.908 715.422,518.874 717.031,517.866 718.64,516.883 720.249,515.926 721.858,514.994 723.467,514.089 725.075,513.209 726.684,512.356 728.293,511.528 729.902,510.727 731.511,509.952 733.12,509.203 734.729,508.481 736.338,507.785 737.947,507.116 739.555,506.473 741.164,505.857 742.773,505.268 744.382,504.706 745.991,504.17 747.6,503.661 749.209,503.18 750.818,502.725 752.427,502.298 754.035,501.897 755.644,501.524 757.253,501.178 758.862,500.859 760.471,500.567 762.08,500.302 763.689,500.065 765.298,499.856 766.907,499.673 768.515,499.518 770.124,499.39 771.733,499.29 773.342,499.217 774.951,499.172 776.56,499.154 778.169,499.163 779.778,499.2 781.387,499.264 782.995,499.355 784.604,499.474 786.213,499.621 787.822,499.794 789.431,499.996 791.04,500.224 792.649,500.48 794.258,500.763 795.867,501.073 797.475,501.41 799.084,501.775 800.693,502.167 802.302,502.586 803.911,503.032 805.52,503.505 807.129,504.005 808.738,504.532 810.347,505.086 811.955,505.667 813.564,506.274 815.173,506.908 816.782,507.569 818.391,508.256 820,508.97 821.609,509.71 823.218,510.477 824.827,511.27 826.435,512.089 828.044,512.935 829.653,513.806 831.262,514.703 832.871,515.626 834.48,516.575 836.089,517.55 837.698,518.55 839.307,519.575 840.915,520.627 842.524,521.703 844.133,522.804 845.742,523.931 847.351,525.082 848.96,526.258 850.569,527.459 852.178,528.685 853.787,529.935 855.395,531.209 857.004,532.508 858.613,533.83 860.222,535.177 861.831,536.547 863.44,537.942 865.049,539.359 866.658,540.8 868.267,542.264 869.875,543.752 871.484,545.262 873.093,546.795 874.702,548.351 876.311,549.929 877.92,551.53 879.529,553.153 881.138,554.798 882.747,556.464 884.355,558.153 885.964,559.863 887.573,561.594 889.182,563.346 890.791,565.12 892.4,566.914 894.009,568.729 895.618,570.564 897.227,572.42 898.835,574.295 900.444,576.191 902.053,578.106 903.662,580.041 905.271,581.995 906.88,583.969 908.489,585.961 910.098,587.972 911.707,590.001 913.315,592.049 914.924,594.115 916.533,596.199 918.142,598.301 919.751,600.42 921.36,602.556 922.969,604.709 924.578,606.88 926.187,609.067 927.795,611.27 929.404,613.49 931.013,615.725 932.622,617.977 934.231,620.244 935.84,622.526 937.449,624.823 939.058,627.135 940.667,629.462 942.275,631.803 943.884,634.158 945.493,636.527 947.102,638.91 948.711,641.307 950.32,643.716 951.929,646.139 953.538,648.574 955.147,651.022 956.755,653.481 958.364,655.953 959.973,658.437 961.582,660.932 963.191,663.438 964.8,665.956 966.409,668.484 968.018,671.022 969.627,673.571 971.235,676.13 972.844,678.698 974.453,681.276 976.062,683.863 977.671,686.46 979.28,689.064 980.889,691.678 982.498,694.299 984.107,696.928 985.715,699.565 987.324,702.209 988.933,704.861 990.542,707.519 992.151,710.184 993.76,712.855 995.369,715.532 996.978,718.215 998.587,720.904 1000.2,723.598 1001.8,726.296 1003.41,729 1005.02,731.707 1006.63,734.419 1008.24,737.135 1009.85,739.855 1011.46,742.578 1013.07,745.304 1014.68,748.032 1016.28,750.764 1017.89,753.497 1019.5,756.233 1021.11,758.97 1022.72,761.709 1024.33,764.448 1025.94,767.189 1027.55,769.93 1029.16,772.672 1030.76,771.24 1032.37,768.499 1033.98,765.758 1035.59,763.017 1037.2,760.278 1038.81,757.54 1040.42,754.804 1042.03,752.069 1043.64,749.337 1045.24,746.607 1046.85,743.88 1048.46,741.155 1050.07,738.434 1051.68,735.717 1053.29,733.003 1054.9,730.293 1056.51,727.587 1058.12,724.886 1059.72,722.19 1061.33,719.499 1062.94,716.814 1064.55,714.134 1066.16,711.459 1067.77,708.792 1069.38,706.13 1070.99,703.475 1072.6,700.828 1074.2,698.187 1075.81,695.554 1077.42,692.929 1079.03,690.312 1080.64,687.703 1082.25,685.103 1083.86,682.511 1085.47,679.929 1087.08,677.356 1088.68,674.792 1090.29,672.239 1091.9,669.695 1093.51,667.162 1095.12,664.64 1096.73,662.128 1098.34,659.628 1099.95,657.139 1101.56,654.661 1103.16,652.195 1104.77,649.742 1106.38,647.301 1107.99,644.872 1109.6,642.456 1111.21,640.054 1112.82,637.664 1114.43,635.289 1116.04,632.927 1117.64,630.579 1119.25,628.245 1120.86,625.926 1122.47,623.622 1124.08,621.332 1125.69,619.058 1127.3,616.799 1128.91,614.556 1130.52,612.329 1132.12,610.118 1133.73,607.923 1135.34,605.744 1136.95,603.583 1138.56,601.438 1140.17,599.311 1141.78,597.201 1143.39,595.109 1145,593.034 1146.6,590.977 1148.21,588.939 1149.82,586.919 1151.43,584.918 1153.04,582.936 1154.65,580.972 1156.26,579.028 1157.87,577.104 1159.48,575.199 1161.08,573.313 1162.69,571.448 1164.3,569.603 1165.91,567.778 1167.52,565.974 1169.13,564.191 1170.74,562.429 1172.35,560.687 1173.96,558.967 1175.56,557.268 1177.17,555.591 1178.78,553.936 1180.39,552.303 1182,550.691 1183.61,549.102 1185.22,547.536 1186.83,545.992 1188.44,544.471 1190.04,542.972 1191.65,541.497 1193.26,540.045 1194.87,538.616 1196.48,537.211 1198.09,535.829 1199.7,534.471 1201.31,533.137 1202.92,531.827 1204.52,530.541 1206.13,529.279 1207.74,528.042 1209.35,526.829 1210.96,525.641 1212.57,524.478 1214.18,523.339 1215.79,522.226 1217.4,521.138 1219,520.075 1220.61,519.037 1222.22,518.024 1223.83,517.038 1225.44,516.076 1227.05,515.141 1228.66,514.231 1230.27,513.348 1231.88,512.49 1233.48,511.658 1235.09,510.853 1236.7,510.073 1238.31,509.321 1239.92,508.594 1241.53,507.894 1243.14,507.221 1244.75,506.574 1246.36,505.953 1247.96,505.36 1249.57,504.793 1251.18,504.253 1252.79,503.741 1254.4,503.255 1256.01,502.796 1257.62,502.364 1259.23,501.959 1260.84,501.581 1262.44,501.231 1264.05,500.908 1265.66,500.612 1267.27,500.343 1268.88,500.101 1270.49,499.887 1272.1,499.7 1273.71,499.541 1275.32,499.409 1276.92,499.304 1278.53,499.227 1280.14,499.177 1281.75,499.155 1283.36,499.16 1284.97,499.192 1286.58,499.252 1288.19,499.339 1289.8,499.454 1291.4,499.596 1293.01,499.765 1294.62,499.962 1296.23,500.186 1297.84,500.437 1299.45,500.716 1301.06,501.022 1302.67,501.355 1304.28,501.715 1305.88,502.103 1307.49,502.517 1309.1,502.959 1310.71,503.428 1312.32,503.924 1313.93,504.446 1315.54,504.996 1317.15,505.572 1318.76,506.175 1320.36,506.805 1321.97,507.462 1323.58,508.145 1325.19,508.855 1326.8,509.591 1328.41,510.353 1330.02,511.142 1331.63,511.957 1333.24,512.798 1334.84,513.665 1336.45,514.558 1338.06,515.477 1339.67,516.422 1341.28,517.393 1342.89,518.389 1344.5,519.41 1346.11,520.457 1347.72,521.53 1349.32,522.627 1350.93,523.75 1352.54,524.897 1354.15,526.069 1355.76,527.266 1357.37,528.488 1358.98,529.734 1360.59,531.005 1362.2,532.299 1363.8,533.618 1365.41,534.961 1367.02,536.328 1368.63,537.718 1370.24,539.132 1371.85,540.569 1373.46,542.03 1375.07,543.513 1376.68,545.02 1378.28,546.55 1379.89,548.102 1381.5,549.677 1383.11,551.274 1384.72,552.893 1386.33,554.534 1387.94,556.197 1389.55,557.882 1391.16,559.589 1392.76,561.317 1394.37,563.066 1395.98,564.836 1397.59,566.627 1399.2,568.438 1400.81,570.27 1402.42,572.123 1404.03,573.995 1405.64,575.888 1407.24,577.8 1408.85,579.732 1410.46,581.683 1412.07,583.653 1413.68,585.642 1415.29,587.65 1416.9,589.677 1418.51,591.722 1420.12,593.785 1421.72,595.866 1423.33,597.965 1424.94,600.081 1426.55,602.215 1428.16,604.365 1429.77,606.533 1431.38,608.717 1432.99,610.918 1434.6,613.135 1436.2,615.368 1437.81,617.617 1439.42,619.882 1441.03,622.161 1442.64,624.456 1444.25,626.766 1445.86,629.09 1447.47,631.429 1449.08,633.782 1450.68,636.149 1452.29,638.53 1453.9,640.924 1455.51,643.332 1457.12,645.752 1458.73,648.185 1460.34,650.631 1461.95,653.089 1463.56,655.559 1465.16,658.041 1466.77,660.534 1468.38,663.038 1469.99,665.554 1471.6,668.08 1473.21,670.617 1474.82,673.165 1476.43,675.722 1478.04,678.289 1479.64,680.865 1481.25,683.451 1482.86,686.046 1484.47,688.649 1486.08,691.261 1487.69,693.881 1489.3,696.509 1490.91,699.145 1492.52,701.788 1494.12,704.438 1495.73,707.095 1497.34,709.759 1498.95,712.429 1500.56,715.106 1502.17,717.788 1503.78,720.475 1505.39,723.168 1507,725.866 1508.6,728.569 1510.21,731.276 1511.82,733.987 1513.43,736.703 1515.04,739.421 1516.65,742.144 1518.26,744.869 1519.87,747.598 1521.48,750.328 1523.08,753.062 1524.69,755.797 1526.3,758.534 1527.91,761.272 1529.52,764.012 1531.13,766.752 1532.74,769.494 1534.35,772.235 1535.96,771.677 1537.56,768.935 1539.17,766.194 1540.78,763.454 1542.39,760.714 1544,757.976 1545.61,755.24 1547.22,752.505 1548.83,749.772 1550.44,747.042 1552.04,744.314 1553.65,741.589 1555.26,738.867 1556.87,736.149 1558.48,733.435 1560.09,730.724 1561.7,728.018 1563.31,725.316 1564.92,722.619 1566.52,719.927 1568.13,717.241 1569.74,714.56 1571.35,711.885 1572.96,709.216 1574.57,706.554 1576.18,703.898 1577.79,701.249 1579.4,698.607 1581,695.973 1582.61,693.347 1584.22,690.728 1585.83,688.118 1587.44,685.516 1589.05,682.923 1590.66,680.34 1592.27,677.765 1593.88,675.2 1595.48,672.645 1597.09,670.1 1598.7,667.565 1600.31,665.041 1601.92,662.527 1603.53,660.025 1605.14,657.534 1606.75,655.055 1608.36,652.587 1609.96,650.132 1611.57,647.689 1613.18,645.258 1614.79,642.84 1616.4,640.435 1618.01,638.044 1619.62,635.666 1621.23,633.302 1622.84,630.952 1624.44,628.616 1626.05,626.294 1627.66,623.988 1629.27,621.696 1630.88,619.419 1632.49,617.158 1634.1,614.912 1635.71,612.682 1637.32,610.469 1638.92,608.271 1640.53,606.09 1642.14,603.926 1643.75,601.779 1645.36,599.649 1646.97,597.536 1648.58,595.441 1650.19,593.363 1651.8,591.304 1653.4,589.263 1655.01,587.24 1656.62,585.236 1658.23,583.25 1659.84,581.284 1661.45,579.337 1663.06,577.409 1664.67,575.501 1666.28,573.612 1667.88,571.744 1669.49,569.896 1671.1,568.068 1672.71,566.26 1674.32,564.474 1675.93,562.708 1677.54,560.963 1679.15,559.24 1680.76,557.537 1682.36,555.857 1683.97,554.198 1685.58,552.561 1687.19,550.947 1688.8,549.354 1690.41,547.784 1692.02,546.236 1693.63,544.711 1695.24,543.209 1696.84,541.73 1698.45,540.275 1700.06,538.842 1701.67,537.433 1703.28,536.047 1704.89,534.686 1706.5,533.348 1708.11,532.034 1709.72,530.744 1711.32,529.478 1712.93,528.237 1714.54,527.021 1716.15,525.829 1717.76,524.661 1719.37,523.519 1720.98,522.402 1722.59,521.309 1724.2,520.242 1725.8,519.2 1727.41,518.184 1729.02,517.193 1730.63,516.228 1732.24,515.288 1733.85,514.374 1735.46,513.487 1737.07,512.625 1738.68,511.789 1740.28,510.979 1741.89,510.196 1743.5,509.439 1745.11,508.708 1746.72,508.004 1748.33,507.326 1749.94,506.675 1751.55,506.05 1753.16,505.453 1754.76,504.882 1756.37,504.338 1757.98,503.82 1759.59,503.33 1761.2,502.867 1762.81,502.431 1764.42,502.022 1766.03,501.64 1767.64,501.285 1769.24,500.957 1770.85,500.657 1772.46,500.384 1774.07,500.138 1775.68,499.919 1777.29,499.728 1778.9,499.564 1780.51,499.428 1782.12,499.319 1783.72,499.237 1785.33,499.183 1786.94,499.156 1788.55,499.157 1790.16,499.185 1791.77,499.24 1793.38,499.323 1794.99,499.434 1796.6,499.571 1798.2,499.736 1799.81,499.929 1801.42,500.148 1803.03,500.395 1804.64,500.67 1806.25,500.971 1807.86,501.3 1809.47,501.656 1811.08,502.039 1812.68,502.45 1814.29,502.887 1815.9,503.351 1817.51,503.843 1819.12,504.361 1820.73,504.907 1822.34,505.479 1823.95,506.078 1825.56,506.703 1827.16,507.356 1828.77,508.034 1830.38,508.74 1831.99,509.472 1833.6,510.23 1835.21,511.015 1836.82,511.825 1838.43,512.662 1840.04,513.525 1841.64,514.414 1843.25,515.329 1844.86,516.27 1846.47,517.236 1848.08,518.229 1849.69,519.246 1851.3,520.289 1852.91,521.357 1854.52,522.451 1856.12,523.569 1857.73,524.713 1859.34,525.881 1860.95,527.074 1862.56,528.292 1864.17,529.534 1865.78,530.801 1867.39,532.092 1869,533.407 1870.6,534.746 1872.21,536.108 1873.82,537.495 1875.43,538.905 1877.04,540.339 1878.65,541.796 1880.26,543.276 1881.87,544.779 1883.48,546.305 1885.08,547.853 1886.69,549.424 1888.3,551.018 1889.91,552.634 1891.52,554.271 1893.13,555.931 1894.74,557.613 1896.35,559.316 1897.96,561.04 1899.56,562.786 1901.17,564.553 1902.78,566.34 1904.39,568.148 1906,569.977 1907.61,571.826 1909.22,573.696 1910.83,575.585 1912.44,577.494 1914.04,579.423 1915.65,581.371 1917.26,583.338 1918.87,585.324 1920.48,587.329 1922.09,589.353 1923.7,591.395 1925.31,593.455 1926.92,595.533 1928.52,597.629 1930.13,599.743 1931.74,601.874 1933.35,604.022 1934.96,606.187 1936.57,608.368 1938.18,610.567 1939.79,612.781 1941.4,615.012 1943,617.258 1944.61,619.52 1946.22,621.797 1947.83,624.09 1949.44,626.397 1951.05,628.719 1952.66,631.056 1954.27,633.407 1955.88,635.771 1957.48,638.15 1959.09,640.542 1960.7,642.947 1962.31,645.366 1963.92,647.797 1965.53,650.241 1967.14,652.697 1968.75,655.165 1970.36,657.645 1971.96,660.136 1973.57,662.639 1975.18,665.153 1976.79,667.677 1978.4,670.213 1980.01,672.758 1981.62,675.314 1983.23,677.879 1984.84,680.454 1986.44,683.038 1988.05,685.632 1989.66,688.234 1991.27,690.844 1992.88,693.463 1994.49,696.09 1996.1,698.724 1997.71,701.366 1999.32,704.016 2000.92,706.672 2002.53,709.334 2004.14,712.004 2005.75,714.679 2007.36,717.36 2008.97,720.047 2010.58,722.739 2012.19,725.436 2013.8,728.138 2015.4,730.844 2017.01,733.555 2018.62,736.27 2020.23,738.988 2021.84,741.71 2023.45,744.435 2025.06,747.163 2026.67,749.893 2028.28,752.626 2029.88,755.361 2031.49,758.098 2033.1,760.836 2034.71,763.576 2036.32,766.316 2037.93,769.057 2039.54,771.799 2041.15,772.114 2042.76,769.372 2044.36,766.631 2045.97,763.89 2047.58,761.151 2049.19,758.412 2050.8,755.675 2052.41,752.94 2054.02,750.207 2055.63,747.476 2057.24,744.748 2058.84,742.023 2060.45,739.301 2062.06,736.582 2063.67,733.867 2065.28,731.156 2066.89,728.449 2068.5,725.746 2070.11,723.048 2071.72,720.356 2073.32,717.668 2074.93,714.987 2076.54,712.311 2078.15,709.641 2079.76,706.977 2081.37,704.32 2082.98,701.67 2084.59,699.027 2086.2,696.392 2087.8,693.764 2089.41,691.145 2091.02,688.533 2092.63,685.93 2094.24,683.336 2095.85,680.751 2097.46,678.174 2099.07,675.608 2100.68,673.051 2102.28,670.504 2103.89,667.968 2105.5,665.442 2107.11,662.927 2108.72,660.423 2110.33,657.93 2111.94,655.449 2113.55,652.979 2115.16,650.522 2116.76,648.077 2118.37,645.644 2119.98,643.224 2121.59,640.818 2123.2,638.424 2124.81,636.044 2126.42,633.677 2128.03,631.325 2129.64,628.987 2131.24,626.663 2132.85,624.354 2134.46,622.06 2136.07,619.781 2137.68,617.517 2139.29,615.269 2140.9,613.036 2142.51,610.82 2144.12,608.62 2145.72,606.436 2147.33,604.269 2148.94,602.119 2150.55,599.987 2152.16,597.871 2153.77,595.773 2155.38,593.693 2156.99,591.631 2158.6,589.586 2160.2,587.561 2161.81,585.554 2163.42,583.565 2165.03,581.596 2166.64,579.645 2168.25,577.715 2169.86,575.803 2171.47,573.912 2173.08,572.04 2174.68,570.189 2176.29,568.357 2177.9,566.547 2179.51,564.757 2181.12,562.988 2182.73,561.24 2184.34,559.513 2185.95,557.807 2187.56,556.123 2189.16,554.461 2190.77,552.821 2192.38,551.202 2193.99,549.606 2195.6,548.032 2197.21,546.481 2198.82,544.953 2200.43,543.447 2202.04,541.964 2203.64,540.505 2205.25,539.069 2206.86,537.656 2208.47,536.266 2210.08,534.901 2211.69,533.559 2213.3,532.241 2214.91,530.948 2216.52,529.678 2218.12,528.433 2219.73,527.213 2221.34,526.017 2222.95,524.846 2224.56,523.699 2226.17,522.578 2227.78,521.482 2229.39,520.41 2231,519.365 2232.6,518.344 2234.21,517.349 2235.82,516.38 2237.43,515.436 2239.04,514.518 2240.65,513.626 2242.26,512.76 2243.87,511.92 2245.48,511.106 2247.08,510.319 2248.69,509.558 2250.3,508.823 2251.91,508.114 2253.52,507.432 2255.13,506.777 2256.74,506.148 2258.35,505.546 2259.96,504.971 2261.56,504.423 2263.17,503.901 2264.78,503.406 2266.39,502.939 2268,502.498 2269.61,502.085 2271.22,501.699 2272.83,501.34 2274.44,501.008 2276.04,500.703 2277.65,500.425 2279.26,500.175 2280.87,499.952 2282.48,499.757 2284.09,499.589 2285.7,499.448 2287.31,499.335 2288.92,499.249 2290.52,499.19 2292.13,499.159 \"/>\n",
       "<path clip-path=\"url(#clip440)\" d=\"M2043.98 322.316 L2281.36 322.316 L2281.36 166.796 L2043.98 166.796  Z\" fill=\"#ffffff\" fill-rule=\"evenodd\" fill-opacity=\"1\"/>\n",
       "<polyline clip-path=\"url(#clip440)\" style=\"stroke:#000000; stroke-linecap:round; stroke-linejoin:round; stroke-width:4; stroke-opacity:1; fill:none\" points=\"2043.98,322.316 2281.36,322.316 2281.36,166.796 2043.98,166.796 2043.98,322.316 \"/>\n",
       "<polyline clip-path=\"url(#clip440)\" style=\"stroke:#ff0000; stroke-linecap:round; stroke-linejoin:round; stroke-width:10; stroke-opacity:1; fill:none\" stroke-dasharray=\"40, 25\" points=\"2067.78,218.636 2210.58,218.636 \"/>\n",
       "<path clip-path=\"url(#clip440)\" d=\"M2250.89 199.897 L2250.89 203.439 L2246.81 203.439 Q2244.52 203.439 2243.62 204.365 Q2242.74 205.291 2242.74 207.698 L2242.74 209.99 L2249.75 209.99 L2249.75 213.3 L2242.74 213.3 L2242.74 235.916 L2238.46 235.916 L2238.46 213.3 L2234.38 213.3 L2234.38 209.99 L2238.46 209.99 L2238.46 208.184 Q2238.46 203.856 2240.47 201.888 Q2242.49 199.897 2246.86 199.897 L2250.89 199.897 Z\" fill=\"#000000\" fill-rule=\"evenodd\" fill-opacity=\"1\" /><polyline clip-path=\"url(#clip440)\" style=\"stroke:#0000ff; stroke-linecap:round; stroke-linejoin:round; stroke-width:10; stroke-opacity:1; fill:none\" points=\"2067.78,270.476 2210.58,270.476 \"/>\n",
       "<path clip-path=\"url(#clip440)\" d=\"M2253.3 274.492 Q2253.3 269.862 2251.37 267.316 Q2249.48 264.77 2246.03 264.77 Q2242.6 264.77 2240.68 267.316 Q2238.78 269.862 2238.78 274.492 Q2238.78 279.098 2240.68 281.645 Q2242.6 284.191 2246.03 284.191 Q2249.48 284.191 2251.37 281.645 Q2253.3 279.098 2253.3 274.492 M2257.56 284.538 Q2257.56 291.158 2254.62 294.376 Q2251.68 297.617 2245.61 297.617 Q2243.37 297.617 2241.37 297.27 Q2239.38 296.945 2237.51 296.251 L2237.51 292.108 Q2239.38 293.126 2241.21 293.612 Q2243.04 294.098 2244.94 294.098 Q2249.13 294.098 2251.21 291.899 Q2253.3 289.723 2253.3 285.302 L2253.3 283.196 Q2251.98 285.487 2249.92 286.621 Q2247.86 287.756 2244.99 287.756 Q2240.22 287.756 2237.3 284.121 Q2234.38 280.487 2234.38 274.492 Q2234.38 268.473 2237.3 264.839 Q2240.22 261.205 2244.99 261.205 Q2247.86 261.205 2249.92 262.339 Q2251.98 263.473 2253.3 265.765 L2253.3 261.83 L2257.56 261.83 L2257.56 284.538 Z\" fill=\"#000000\" fill-rule=\"evenodd\" fill-opacity=\"1\" /></svg>\n"
      ]
     },
     "execution_count": 3,
     "metadata": {},
     "output_type": "execute_result"
    }
   ],
   "source": [
    "# importamos el paquete Plots.\n",
    "using Plots\n",
    "using LaTeXStrings # Esto sirve para incorporar LaTeX al gráfico (ej. en ejes, leyendas, etc.).\n",
    "# Definimos un rango de valores que comienza en -π, va de a pasos 0.01 y termina en π.\n",
    "x = -π:0.01:π\n",
    "# Definimos la función que queremos plotear en dicho rango\n",
    "f(x) = cos(x) + 2.0 * sin(x)\n",
    "# Usando broadcasting (i.e. poniendo un punto detras del nombre de la función), aplicamos la función \"f\"\n",
    "# al rango previamente definido \"x\" para crear un vector \"y\".\n",
    "y = f.(x)\n",
    "# Ploteamos los valores de y vs x, usando una linea punteada de color rojo, ancho 2.5 y leyenda \"f\".\n",
    "plot(x, y, linestyle=:dash, linecolor=:red, linewidth=2.5, label=\"f\")\n",
    "# Agregamos al plot (por eso usamos plot! en vez de plot) título y nombres a los ejes.\n",
    "plot!(xlabel=L\"x\", ylabel=L\"y\", title=\"Gráfico ejemplo.\")\n",
    "# Definimos otra curva\n",
    "x = -2π:0.01:2π\n",
    "g(x) = abs(cos(x))\n",
    "y = g.(x)\n",
    "# y la agregamos al gráfico.\n",
    "plot!(x, y, linestyle=:solid, linecolor=:blue, linewidth=2.5, label=\"g\")"
   ]
  },
  {
   "cell_type": "markdown",
   "metadata": {},
   "source": [
    "**Teoría**\n",
    "\n",
    "A tiempo $t=0$, el proyectil se encuentra en $x=y=0$ y es disparado con velocidad $v_{x0}=v_0\\cos\\theta$ y $v_{y0}=v_0\\sin\\theta$. La evolución temporal de la velocidad es \n",
    "$$v_x(t)=v_{x0}$$ \n",
    "y \n",
    "$$v_y(t)=v_{y0}-gt$$ \n",
    "para todo $t$, y, por ende, la evolución temporal de la trajectoria es \n",
    "$$x(t)=v_{x0}t$$ \n",
    "e \n",
    "$$y(y)=-\\frac{1}{2}t^2g+v_{y0}t$$"
   ]
  },
  {
   "cell_type": "code",
   "execution_count": 20,
   "metadata": {},
   "outputs": [
    {
     "data": {
      "text/plain": [
       "plotting (generic function with 1 method)"
      ]
     },
     "execution_count": 20,
     "metadata": {},
     "output_type": "execute_result"
    }
   ],
   "source": [
    "using Plots\n",
    "using LaTeXStrings\n",
    "function plotting(θ, v₀)\n",
    "    g=9.8\n",
    "    \n",
    "    vₓ=v₀*cos(θ)\n",
    "    vₕ₀=v₀*sin(θ)\n",
    "    \n",
    "    t₁=2vₕ₀/g\n",
    "    t=0:0.05:t₁+.05\n",
    "    \n",
    "    vₕ(t)=-g*t+vₕ₀\n",
    "    x(t)=vₓ*t\n",
    "    y(t)=-1/2*g*t^2+vₕ₀*t\n",
    "    \n",
    "    x = x.(t)\n",
    "    y = y.(t)\n",
    "    \n",
    "    plot(t, x, linestyle=:solid, linecolor=:blue, linewidth=2, label=\"x(t)\")\n",
    "    plot!(t, y, linestyle=:solid, linecolor=:red, linewidth=2, label=\"y(t)\")\n",
    "    plot!(t, vₕ, linestyle=:solid, linecolor=:green, linewidth=2, label=\"vₕ(t)\")\n",
    "end"
   ]
  },
  {
   "cell_type": "code",
   "execution_count": 21,
   "metadata": {},
   "outputs": [
    {
     "data": {
      "image/svg+xml": [
       "<?xml version=\"1.0\" encoding=\"utf-8\"?>\n",
       "<svg xmlns=\"http://www.w3.org/2000/svg\" xmlns:xlink=\"http://www.w3.org/1999/xlink\" width=\"600\" height=\"400\" viewBox=\"0 0 2400 1600\">\n",
       "<defs>\n",
       "  <clipPath id=\"clip680\">\n",
       "    <rect x=\"0\" y=\"0\" width=\"2400\" height=\"1600\"/>\n",
       "  </clipPath>\n",
       "</defs>\n",
       "<path clip-path=\"url(#clip680)\" d=\"M0 1600 L2400 1600 L2400 0 L0 0  Z\" fill=\"#ffffff\" fill-rule=\"evenodd\" fill-opacity=\"1\"/>\n",
       "<defs>\n",
       "  <clipPath id=\"clip681\">\n",
       "    <rect x=\"480\" y=\"0\" width=\"1681\" height=\"1600\"/>\n",
       "  </clipPath>\n",
       "</defs>\n",
       "<path clip-path=\"url(#clip680)\" d=\"M170.857 1486.45 L2352.76 1486.45 L2352.76 47.2441 L170.857 47.2441  Z\" fill=\"#ffffff\" fill-rule=\"evenodd\" fill-opacity=\"1\"/>\n",
       "<defs>\n",
       "  <clipPath id=\"clip682\">\n",
       "    <rect x=\"170\" y=\"47\" width=\"2183\" height=\"1440\"/>\n",
       "  </clipPath>\n",
       "</defs>\n",
       "<polyline clip-path=\"url(#clip682)\" style=\"stroke:#000000; stroke-linecap:round; stroke-linejoin:round; stroke-width:2; stroke-opacity:0.1; fill:none\" points=\"232.609,1486.45 232.609,47.2441 \"/>\n",
       "<polyline clip-path=\"url(#clip682)\" style=\"stroke:#000000; stroke-linecap:round; stroke-linejoin:round; stroke-width:2; stroke-opacity:0.1; fill:none\" points=\"632.298,1486.45 632.298,47.2441 \"/>\n",
       "<polyline clip-path=\"url(#clip682)\" style=\"stroke:#000000; stroke-linecap:round; stroke-linejoin:round; stroke-width:2; stroke-opacity:0.1; fill:none\" points=\"1031.99,1486.45 1031.99,47.2441 \"/>\n",
       "<polyline clip-path=\"url(#clip682)\" style=\"stroke:#000000; stroke-linecap:round; stroke-linejoin:round; stroke-width:2; stroke-opacity:0.1; fill:none\" points=\"1431.67,1486.45 1431.67,47.2441 \"/>\n",
       "<polyline clip-path=\"url(#clip682)\" style=\"stroke:#000000; stroke-linecap:round; stroke-linejoin:round; stroke-width:2; stroke-opacity:0.1; fill:none\" points=\"1831.36,1486.45 1831.36,47.2441 \"/>\n",
       "<polyline clip-path=\"url(#clip682)\" style=\"stroke:#000000; stroke-linecap:round; stroke-linejoin:round; stroke-width:2; stroke-opacity:0.1; fill:none\" points=\"2231.05,1486.45 2231.05,47.2441 \"/>\n",
       "<polyline clip-path=\"url(#clip680)\" style=\"stroke:#000000; stroke-linecap:round; stroke-linejoin:round; stroke-width:4; stroke-opacity:1; fill:none\" points=\"170.857,1486.45 2352.76,1486.45 \"/>\n",
       "<polyline clip-path=\"url(#clip680)\" style=\"stroke:#000000; stroke-linecap:round; stroke-linejoin:round; stroke-width:4; stroke-opacity:1; fill:none\" points=\"232.609,1486.45 232.609,1467.55 \"/>\n",
       "<polyline clip-path=\"url(#clip680)\" style=\"stroke:#000000; stroke-linecap:round; stroke-linejoin:round; stroke-width:4; stroke-opacity:1; fill:none\" points=\"632.298,1486.45 632.298,1467.55 \"/>\n",
       "<polyline clip-path=\"url(#clip680)\" style=\"stroke:#000000; stroke-linecap:round; stroke-linejoin:round; stroke-width:4; stroke-opacity:1; fill:none\" points=\"1031.99,1486.45 1031.99,1467.55 \"/>\n",
       "<polyline clip-path=\"url(#clip680)\" style=\"stroke:#000000; stroke-linecap:round; stroke-linejoin:round; stroke-width:4; stroke-opacity:1; fill:none\" points=\"1431.67,1486.45 1431.67,1467.55 \"/>\n",
       "<polyline clip-path=\"url(#clip680)\" style=\"stroke:#000000; stroke-linecap:round; stroke-linejoin:round; stroke-width:4; stroke-opacity:1; fill:none\" points=\"1831.36,1486.45 1831.36,1467.55 \"/>\n",
       "<polyline clip-path=\"url(#clip680)\" style=\"stroke:#000000; stroke-linecap:round; stroke-linejoin:round; stroke-width:4; stroke-opacity:1; fill:none\" points=\"2231.05,1486.45 2231.05,1467.55 \"/>\n",
       "<path clip-path=\"url(#clip680)\" d=\"M232.609 1517.37 Q228.998 1517.37 227.169 1520.93 Q225.364 1524.47 225.364 1531.6 Q225.364 1538.71 227.169 1542.27 Q228.998 1545.82 232.609 1545.82 Q236.244 1545.82 238.049 1542.27 Q239.878 1538.71 239.878 1531.6 Q239.878 1524.47 238.049 1520.93 Q236.244 1517.37 232.609 1517.37 M232.609 1513.66 Q238.419 1513.66 241.475 1518.27 Q244.554 1522.85 244.554 1531.6 Q244.554 1540.33 241.475 1544.94 Q238.419 1549.52 232.609 1549.52 Q226.799 1549.52 223.72 1544.94 Q220.665 1540.33 220.665 1531.6 Q220.665 1522.85 223.72 1518.27 Q226.799 1513.66 232.609 1513.66 Z\" fill=\"#000000\" fill-rule=\"evenodd\" fill-opacity=\"1\" /><path clip-path=\"url(#clip680)\" d=\"M622.68 1544.91 L630.318 1544.91 L630.318 1518.55 L622.008 1520.21 L622.008 1515.95 L630.272 1514.29 L634.948 1514.29 L634.948 1544.91 L642.587 1544.91 L642.587 1548.85 L622.68 1548.85 L622.68 1544.91 Z\" fill=\"#000000\" fill-rule=\"evenodd\" fill-opacity=\"1\" /><path clip-path=\"url(#clip680)\" d=\"M1026.64 1544.91 L1042.96 1544.91 L1042.96 1548.85 L1021.01 1548.85 L1021.01 1544.91 Q1023.68 1542.16 1028.26 1537.53 Q1032.87 1532.88 1034.05 1531.53 Q1036.29 1529.01 1037.17 1527.27 Q1038.07 1525.51 1038.07 1523.82 Q1038.07 1521.07 1036.13 1519.33 Q1034.21 1517.6 1031.11 1517.6 Q1028.91 1517.6 1026.45 1518.36 Q1024.02 1519.13 1021.25 1520.68 L1021.25 1515.95 Q1024.07 1514.82 1026.52 1514.24 Q1028.98 1513.66 1031.01 1513.66 Q1036.38 1513.66 1039.58 1516.35 Q1042.77 1519.03 1042.77 1523.52 Q1042.77 1525.65 1041.96 1527.57 Q1041.18 1529.47 1039.07 1532.07 Q1038.49 1532.74 1035.39 1535.95 Q1032.29 1539.15 1026.64 1544.91 Z\" fill=\"#000000\" fill-rule=\"evenodd\" fill-opacity=\"1\" /><path clip-path=\"url(#clip680)\" d=\"M1435.92 1530.21 Q1439.28 1530.93 1441.15 1533.2 Q1443.05 1535.47 1443.05 1538.8 Q1443.05 1543.92 1439.53 1546.72 Q1436.01 1549.52 1429.53 1549.52 Q1427.36 1549.52 1425.04 1549.08 Q1422.75 1548.66 1420.3 1547.81 L1420.3 1543.29 Q1422.24 1544.43 1424.56 1545.01 Q1426.87 1545.58 1429.39 1545.58 Q1433.79 1545.58 1436.08 1543.85 Q1438.4 1542.11 1438.4 1538.8 Q1438.4 1535.75 1436.25 1534.03 Q1434.12 1532.3 1430.3 1532.3 L1426.27 1532.3 L1426.27 1528.45 L1430.48 1528.45 Q1433.93 1528.45 1435.76 1527.09 Q1437.59 1525.7 1437.59 1523.11 Q1437.59 1520.45 1435.69 1519.03 Q1433.82 1517.6 1430.3 1517.6 Q1428.38 1517.6 1426.18 1518.01 Q1423.98 1518.43 1421.34 1519.31 L1421.34 1515.14 Q1424 1514.4 1426.32 1514.03 Q1428.65 1513.66 1430.71 1513.66 Q1436.04 1513.66 1439.14 1516.09 Q1442.24 1518.5 1442.24 1522.62 Q1442.24 1525.49 1440.6 1527.48 Q1438.95 1529.45 1435.92 1530.21 Z\" fill=\"#000000\" fill-rule=\"evenodd\" fill-opacity=\"1\" /><path clip-path=\"url(#clip680)\" d=\"M1834.37 1518.36 L1822.57 1536.81 L1834.37 1536.81 L1834.37 1518.36 M1833.14 1514.29 L1839.02 1514.29 L1839.02 1536.81 L1843.96 1536.81 L1843.96 1540.7 L1839.02 1540.7 L1839.02 1548.85 L1834.37 1548.85 L1834.37 1540.7 L1818.77 1540.7 L1818.77 1536.19 L1833.14 1514.29 Z\" fill=\"#000000\" fill-rule=\"evenodd\" fill-opacity=\"1\" /><path clip-path=\"url(#clip680)\" d=\"M2221.33 1514.29 L2239.69 1514.29 L2239.69 1518.22 L2225.61 1518.22 L2225.61 1526.7 Q2226.63 1526.35 2227.65 1526.19 Q2228.67 1526 2229.69 1526 Q2235.47 1526 2238.85 1529.17 Q2242.23 1532.34 2242.23 1537.76 Q2242.23 1543.34 2238.76 1546.44 Q2235.29 1549.52 2228.97 1549.52 Q2226.79 1549.52 2224.52 1549.15 Q2222.28 1548.78 2219.87 1548.04 L2219.87 1543.34 Q2221.95 1544.47 2224.18 1545.03 Q2226.4 1545.58 2228.87 1545.58 Q2232.88 1545.58 2235.22 1543.48 Q2237.56 1541.37 2237.56 1537.76 Q2237.56 1534.15 2235.22 1532.04 Q2232.88 1529.94 2228.87 1529.94 Q2227 1529.94 2225.12 1530.35 Q2223.27 1530.77 2221.33 1531.65 L2221.33 1514.29 Z\" fill=\"#000000\" fill-rule=\"evenodd\" fill-opacity=\"1\" /><polyline clip-path=\"url(#clip682)\" style=\"stroke:#000000; stroke-linecap:round; stroke-linejoin:round; stroke-width:2; stroke-opacity:0.1; fill:none\" points=\"170.857,1306.54 2352.76,1306.54 \"/>\n",
       "<polyline clip-path=\"url(#clip682)\" style=\"stroke:#000000; stroke-linecap:round; stroke-linejoin:round; stroke-width:2; stroke-opacity:0.1; fill:none\" points=\"170.857,1033.32 2352.76,1033.32 \"/>\n",
       "<polyline clip-path=\"url(#clip682)\" style=\"stroke:#000000; stroke-linecap:round; stroke-linejoin:round; stroke-width:2; stroke-opacity:0.1; fill:none\" points=\"170.857,760.102 2352.76,760.102 \"/>\n",
       "<polyline clip-path=\"url(#clip682)\" style=\"stroke:#000000; stroke-linecap:round; stroke-linejoin:round; stroke-width:2; stroke-opacity:0.1; fill:none\" points=\"170.857,486.883 2352.76,486.883 \"/>\n",
       "<polyline clip-path=\"url(#clip682)\" style=\"stroke:#000000; stroke-linecap:round; stroke-linejoin:round; stroke-width:2; stroke-opacity:0.1; fill:none\" points=\"170.857,213.665 2352.76,213.665 \"/>\n",
       "<polyline clip-path=\"url(#clip680)\" style=\"stroke:#000000; stroke-linecap:round; stroke-linejoin:round; stroke-width:4; stroke-opacity:1; fill:none\" points=\"170.857,1486.45 170.857,47.2441 \"/>\n",
       "<polyline clip-path=\"url(#clip680)\" style=\"stroke:#000000; stroke-linecap:round; stroke-linejoin:round; stroke-width:4; stroke-opacity:1; fill:none\" points=\"170.857,1306.54 189.755,1306.54 \"/>\n",
       "<polyline clip-path=\"url(#clip680)\" style=\"stroke:#000000; stroke-linecap:round; stroke-linejoin:round; stroke-width:4; stroke-opacity:1; fill:none\" points=\"170.857,1033.32 189.755,1033.32 \"/>\n",
       "<polyline clip-path=\"url(#clip680)\" style=\"stroke:#000000; stroke-linecap:round; stroke-linejoin:round; stroke-width:4; stroke-opacity:1; fill:none\" points=\"170.857,760.102 189.755,760.102 \"/>\n",
       "<polyline clip-path=\"url(#clip680)\" style=\"stroke:#000000; stroke-linecap:round; stroke-linejoin:round; stroke-width:4; stroke-opacity:1; fill:none\" points=\"170.857,486.883 189.755,486.883 \"/>\n",
       "<polyline clip-path=\"url(#clip680)\" style=\"stroke:#000000; stroke-linecap:round; stroke-linejoin:round; stroke-width:4; stroke-opacity:1; fill:none\" points=\"170.857,213.665 189.755,213.665 \"/>\n",
       "<path clip-path=\"url(#clip680)\" d=\"M122.913 1292.34 Q119.302 1292.34 117.473 1295.9 Q115.668 1299.44 115.668 1306.57 Q115.668 1313.68 117.473 1317.24 Q119.302 1320.79 122.913 1320.79 Q126.547 1320.79 128.353 1317.24 Q130.182 1313.68 130.182 1306.57 Q130.182 1299.44 128.353 1295.9 Q126.547 1292.34 122.913 1292.34 M122.913 1288.63 Q128.723 1288.63 131.779 1293.24 Q134.857 1297.82 134.857 1306.57 Q134.857 1315.3 131.779 1319.91 Q128.723 1324.49 122.913 1324.49 Q117.103 1324.49 114.024 1319.91 Q110.969 1315.3 110.969 1306.57 Q110.969 1297.82 114.024 1293.24 Q117.103 1288.63 122.913 1288.63 Z\" fill=\"#000000\" fill-rule=\"evenodd\" fill-opacity=\"1\" /><path clip-path=\"url(#clip680)\" d=\"M82.7975 1016.04 L101.154 1016.04 L101.154 1019.98 L87.0799 1019.98 L87.0799 1028.45 Q88.0984 1028.1 89.1169 1027.94 Q90.1354 1027.75 91.1539 1027.75 Q96.941 1027.75 100.321 1030.92 Q103.7 1034.1 103.7 1039.51 Q103.7 1045.09 100.228 1048.19 Q96.7558 1051.27 90.4364 1051.27 Q88.2604 1051.27 85.9919 1050.9 Q83.7466 1050.53 81.3392 1049.79 L81.3392 1045.09 Q83.4225 1046.23 85.6447 1046.78 Q87.8669 1047.34 90.3438 1047.34 Q94.3484 1047.34 96.6863 1045.23 Q99.0243 1043.12 99.0243 1039.51 Q99.0243 1035.9 96.6863 1033.79 Q94.3484 1031.69 90.3438 1031.69 Q88.4688 1031.69 86.5938 1032.1 Q84.7419 1032.52 82.7975 1033.4 L82.7975 1016.04 Z\" fill=\"#000000\" fill-rule=\"evenodd\" fill-opacity=\"1\" /><path clip-path=\"url(#clip680)\" d=\"M122.913 1019.12 Q119.302 1019.12 117.473 1022.68 Q115.668 1026.23 115.668 1033.35 Q115.668 1040.46 117.473 1044.03 Q119.302 1047.57 122.913 1047.57 Q126.547 1047.57 128.353 1044.03 Q130.182 1040.46 130.182 1033.35 Q130.182 1026.23 128.353 1022.68 Q126.547 1019.12 122.913 1019.12 M122.913 1015.42 Q128.723 1015.42 131.779 1020.02 Q134.857 1024.6 134.857 1033.35 Q134.857 1042.08 131.779 1046.69 Q128.723 1051.27 122.913 1051.27 Q117.103 1051.27 114.024 1046.69 Q110.969 1042.08 110.969 1033.35 Q110.969 1024.6 114.024 1020.02 Q117.103 1015.42 122.913 1015.42 Z\" fill=\"#000000\" fill-rule=\"evenodd\" fill-opacity=\"1\" /><path clip-path=\"url(#clip680)\" d=\"M53.3995 773.447 L61.0384 773.447 L61.0384 747.081 L52.7282 748.748 L52.7282 744.488 L60.9921 742.822 L65.668 742.822 L65.668 773.447 L73.3068 773.447 L73.3068 777.382 L53.3995 777.382 L53.3995 773.447 Z\" fill=\"#000000\" fill-rule=\"evenodd\" fill-opacity=\"1\" /><path clip-path=\"url(#clip680)\" d=\"M92.7512 745.9 Q89.1401 745.9 87.3114 749.465 Q85.5058 753.007 85.5058 760.136 Q85.5058 767.243 87.3114 770.808 Q89.1401 774.349 92.7512 774.349 Q96.3854 774.349 98.1909 770.808 Q100.02 767.243 100.02 760.136 Q100.02 753.007 98.1909 749.465 Q96.3854 745.9 92.7512 745.9 M92.7512 742.197 Q98.5613 742.197 101.617 746.803 Q104.696 751.386 104.696 760.136 Q104.696 768.863 101.617 773.47 Q98.5613 778.053 92.7512 778.053 Q86.941 778.053 83.8623 773.47 Q80.8068 768.863 80.8068 760.136 Q80.8068 751.386 83.8623 746.803 Q86.941 742.197 92.7512 742.197 Z\" fill=\"#000000\" fill-rule=\"evenodd\" fill-opacity=\"1\" /><path clip-path=\"url(#clip680)\" d=\"M122.913 745.9 Q119.302 745.9 117.473 749.465 Q115.668 753.007 115.668 760.136 Q115.668 767.243 117.473 770.808 Q119.302 774.349 122.913 774.349 Q126.547 774.349 128.353 770.808 Q130.182 767.243 130.182 760.136 Q130.182 753.007 128.353 749.465 Q126.547 745.9 122.913 745.9 M122.913 742.197 Q128.723 742.197 131.779 746.803 Q134.857 751.386 134.857 760.136 Q134.857 768.863 131.779 773.47 Q128.723 778.053 122.913 778.053 Q117.103 778.053 114.024 773.47 Q110.969 768.863 110.969 760.136 Q110.969 751.386 114.024 746.803 Q117.103 742.197 122.913 742.197 Z\" fill=\"#000000\" fill-rule=\"evenodd\" fill-opacity=\"1\" /><path clip-path=\"url(#clip680)\" d=\"M53.3995 500.228 L61.0384 500.228 L61.0384 473.863 L52.7282 475.529 L52.7282 471.27 L60.9921 469.603 L65.668 469.603 L65.668 500.228 L73.3068 500.228 L73.3068 504.163 L53.3995 504.163 L53.3995 500.228 Z\" fill=\"#000000\" fill-rule=\"evenodd\" fill-opacity=\"1\" /><path clip-path=\"url(#clip680)\" d=\"M82.7975 469.603 L101.154 469.603 L101.154 473.539 L87.0799 473.539 L87.0799 482.011 Q88.0984 481.664 89.1169 481.501 Q90.1354 481.316 91.1539 481.316 Q96.941 481.316 100.321 484.488 Q103.7 487.659 103.7 493.076 Q103.7 498.654 100.228 501.756 Q96.7558 504.835 90.4364 504.835 Q88.2604 504.835 85.9919 504.464 Q83.7466 504.094 81.3392 503.353 L81.3392 498.654 Q83.4225 499.788 85.6447 500.344 Q87.8669 500.9 90.3438 500.9 Q94.3484 500.9 96.6863 498.793 Q99.0243 496.687 99.0243 493.076 Q99.0243 489.464 96.6863 487.358 Q94.3484 485.251 90.3438 485.251 Q88.4688 485.251 86.5938 485.668 Q84.7419 486.085 82.7975 486.964 L82.7975 469.603 Z\" fill=\"#000000\" fill-rule=\"evenodd\" fill-opacity=\"1\" /><path clip-path=\"url(#clip680)\" d=\"M122.913 472.682 Q119.302 472.682 117.473 476.247 Q115.668 479.789 115.668 486.918 Q115.668 494.025 117.473 497.589 Q119.302 501.131 122.913 501.131 Q126.547 501.131 128.353 497.589 Q130.182 494.025 130.182 486.918 Q130.182 479.789 128.353 476.247 Q126.547 472.682 122.913 472.682 M122.913 468.978 Q128.723 468.978 131.779 473.585 Q134.857 478.168 134.857 486.918 Q134.857 495.645 131.779 500.251 Q128.723 504.835 122.913 504.835 Q117.103 504.835 114.024 500.251 Q110.969 495.645 110.969 486.918 Q110.969 478.168 114.024 473.585 Q117.103 468.978 122.913 468.978 Z\" fill=\"#000000\" fill-rule=\"evenodd\" fill-opacity=\"1\" /><path clip-path=\"url(#clip680)\" d=\"M56.6171 227.01 L72.9365 227.01 L72.9365 230.945 L50.9921 230.945 L50.9921 227.01 Q53.6541 224.255 58.2375 219.626 Q62.8439 214.973 64.0245 213.63 Q66.2698 211.107 67.1494 209.371 Q68.0522 207.612 68.0522 205.922 Q68.0522 203.167 66.1078 201.431 Q64.1865 199.695 61.0847 199.695 Q58.8856 199.695 56.4319 200.459 Q54.0014 201.223 51.2236 202.774 L51.2236 198.052 Q54.0477 196.918 56.5014 196.339 Q58.955 195.76 60.9921 195.76 Q66.3624 195.76 69.5568 198.445 Q72.7513 201.13 72.7513 205.621 Q72.7513 207.751 71.9411 209.672 Q71.1541 211.57 69.0476 214.163 Q68.4689 214.834 65.367 218.052 Q62.2652 221.246 56.6171 227.01 Z\" fill=\"#000000\" fill-rule=\"evenodd\" fill-opacity=\"1\" /><path clip-path=\"url(#clip680)\" d=\"M92.7512 199.464 Q89.1401 199.464 87.3114 203.029 Q85.5058 206.57 85.5058 213.7 Q85.5058 220.806 87.3114 224.371 Q89.1401 227.913 92.7512 227.913 Q96.3854 227.913 98.1909 224.371 Q100.02 220.806 100.02 213.7 Q100.02 206.57 98.1909 203.029 Q96.3854 199.464 92.7512 199.464 M92.7512 195.76 Q98.5613 195.76 101.617 200.367 Q104.696 204.95 104.696 213.7 Q104.696 222.427 101.617 227.033 Q98.5613 231.616 92.7512 231.616 Q86.941 231.616 83.8623 227.033 Q80.8068 222.427 80.8068 213.7 Q80.8068 204.95 83.8623 200.367 Q86.941 195.76 92.7512 195.76 Z\" fill=\"#000000\" fill-rule=\"evenodd\" fill-opacity=\"1\" /><path clip-path=\"url(#clip680)\" d=\"M122.913 199.464 Q119.302 199.464 117.473 203.029 Q115.668 206.57 115.668 213.7 Q115.668 220.806 117.473 224.371 Q119.302 227.913 122.913 227.913 Q126.547 227.913 128.353 224.371 Q130.182 220.806 130.182 213.7 Q130.182 206.57 128.353 203.029 Q126.547 199.464 122.913 199.464 M122.913 195.76 Q128.723 195.76 131.779 200.367 Q134.857 204.95 134.857 213.7 Q134.857 222.427 131.779 227.033 Q128.723 231.616 122.913 231.616 Q117.103 231.616 114.024 227.033 Q110.969 222.427 110.969 213.7 Q110.969 204.95 114.024 200.367 Q117.103 195.76 122.913 195.76 Z\" fill=\"#000000\" fill-rule=\"evenodd\" fill-opacity=\"1\" /><polyline clip-path=\"url(#clip682)\" style=\"stroke:#0000ff; stroke-linecap:round; stroke-linejoin:round; stroke-width:8; stroke-opacity:1; fill:none\" points=\"232.609,1306.54 252.594,1294.71 272.578,1282.88 292.563,1271.05 312.547,1259.22 332.531,1247.38 352.516,1235.55 372.5,1223.72 392.485,1211.89 412.469,1200.06 432.453,1188.23 452.438,1176.4 472.422,1164.57 492.407,1152.74 512.391,1140.91 532.375,1129.08 552.36,1117.25 572.344,1105.42 592.329,1093.59 612.313,1081.76 632.298,1069.92 652.282,1058.09 672.266,1046.26 692.251,1034.43 712.235,1022.6 732.22,1010.77 752.204,998.94 772.188,987.109 792.173,975.279 812.157,963.448 832.142,951.617 852.126,939.787 872.111,927.956 892.095,916.125 912.079,904.295 932.064,892.464 952.048,880.633 972.033,868.802 992.017,856.972 1012,845.141 1031.99,833.31 1051.97,821.48 1071.95,809.649 1091.94,797.818 1111.92,785.988 1131.91,774.157 1151.89,762.326 1171.88,750.495 1191.86,738.665 1211.85,726.834 1231.83,715.003 1251.81,703.173 1271.8,691.342 1291.78,679.511 1311.77,667.681 1331.75,655.85 1351.74,644.019 1371.72,632.188 1391.71,620.358 1411.69,608.527 1431.67,596.696 1451.66,584.866 1471.64,573.035 1491.63,561.204 1511.61,549.374 1531.6,537.543 1551.58,525.712 1571.57,513.881 1591.55,502.051 1611.53,490.22 1631.52,478.389 1651.5,466.559 1671.49,454.728 1691.47,442.897 1711.46,431.067 1731.44,419.236 1751.42,407.405 1771.41,395.574 1791.39,383.744 1811.38,371.913 1831.36,360.082 1851.35,348.252 1871.33,336.421 1891.32,324.59 1911.3,312.76 1931.28,300.929 1951.27,289.098 1971.25,277.267 1991.24,265.437 2011.22,253.606 2031.21,241.775 2051.19,229.945 2071.18,218.114 2091.16,206.283 2111.14,194.453 2131.13,182.622 2151.11,170.791 2171.1,158.96 2191.08,147.13 2211.07,135.299 2231.05,123.468 2251.04,111.638 2271.02,99.807 2291,87.9763 \"/>\n",
       "<polyline clip-path=\"url(#clip682)\" style=\"stroke:#ff0000; stroke-linecap:round; stroke-linejoin:round; stroke-width:8; stroke-opacity:1; fill:none\" points=\"232.609,1306.54 252.594,1299.77 272.578,1293.15 292.563,1286.65 312.547,1280.29 332.531,1274.06 352.516,1267.97 372.5,1262.01 392.485,1256.18 412.469,1250.49 432.453,1244.93 452.438,1239.5 472.422,1234.21 492.407,1229.05 512.391,1224.03 532.375,1219.14 552.36,1214.39 572.344,1209.77 592.329,1205.28 612.313,1200.92 632.298,1196.7 652.282,1192.62 672.266,1188.67 692.251,1184.85 712.235,1181.16 732.22,1177.61 752.204,1174.2 772.188,1170.91 792.173,1167.77 812.157,1164.75 832.142,1161.87 852.126,1159.12 872.111,1156.51 892.095,1154.03 912.079,1151.68 932.064,1149.47 952.048,1147.39 972.033,1145.45 992.017,1143.64 1012,1141.96 1031.99,1140.42 1051.97,1139.01 1071.95,1137.74 1091.94,1136.6 1111.92,1135.59 1131.91,1134.72 1151.89,1133.98 1171.88,1133.37 1191.86,1132.9 1211.85,1132.57 1231.83,1132.36 1251.81,1132.29 1271.8,1132.36 1291.78,1132.55 1311.77,1132.89 1331.75,1133.35 1351.74,1133.95 1371.72,1134.69 1391.71,1135.55 1411.69,1136.55 1431.67,1137.69 1451.66,1138.96 1471.64,1140.36 1491.63,1141.9 1511.61,1143.57 1531.6,1145.37 1551.58,1147.31 1571.57,1149.38 1591.55,1151.59 1611.53,1153.93 1631.52,1156.4 1651.5,1159.01 1671.49,1161.75 1691.47,1164.63 1711.46,1167.64 1731.44,1170.78 1751.42,1174.06 1771.41,1177.47 1791.39,1181.02 1811.38,1184.7 1831.36,1188.51 1851.35,1192.45 1871.33,1196.54 1891.32,1200.75 1911.3,1205.1 1931.28,1209.58 1951.27,1214.2 1971.25,1218.95 1991.24,1223.83 2011.22,1228.85 2031.21,1234 2051.19,1239.28 2071.18,1244.7 2091.16,1250.26 2111.14,1255.94 2131.13,1261.76 2151.11,1267.72 2171.1,1273.81 2191.08,1280.03 2211.07,1286.39 2231.05,1292.88 2251.04,1299.5 2271.02,1306.26 2291,1313.15 \"/>\n",
       "<polyline clip-path=\"url(#clip682)\" style=\"stroke:#008000; stroke-linecap:round; stroke-linejoin:round; stroke-width:8; stroke-opacity:1; fill:none\" points=\"232.609,1169.93 252.594,1172.61 272.578,1175.28 292.563,1177.96 312.547,1180.64 332.531,1183.32 352.516,1185.99 372.5,1188.67 392.485,1191.35 412.469,1194.03 432.453,1196.7 452.438,1199.38 472.422,1202.06 492.407,1204.74 512.391,1207.41 532.375,1210.09 552.36,1212.77 572.344,1215.45 592.329,1218.12 612.313,1220.8 632.298,1223.48 652.282,1226.16 672.266,1228.84 692.251,1231.51 712.235,1234.19 732.22,1236.87 752.204,1239.55 772.188,1242.22 792.173,1244.9 812.157,1247.58 832.142,1250.26 852.126,1252.93 872.111,1255.61 892.095,1258.29 912.079,1260.97 932.064,1263.64 952.048,1266.32 972.033,1269 992.017,1271.68 1012,1274.35 1031.99,1277.03 1051.97,1279.71 1071.95,1282.39 1091.94,1285.06 1111.92,1287.74 1131.91,1290.42 1151.89,1293.1 1171.88,1295.77 1191.86,1298.45 1211.85,1301.13 1231.83,1303.81 1251.81,1306.48 1271.8,1309.16 1291.78,1311.84 1311.77,1314.52 1331.75,1317.19 1351.74,1319.87 1371.72,1322.55 1391.71,1325.23 1411.69,1327.9 1431.67,1330.58 1451.66,1333.26 1471.64,1335.94 1491.63,1338.61 1511.61,1341.29 1531.6,1343.97 1551.58,1346.65 1571.57,1349.32 1591.55,1352 1611.53,1354.68 1631.52,1357.36 1651.5,1360.03 1671.49,1362.71 1691.47,1365.39 1711.46,1368.07 1731.44,1370.74 1751.42,1373.42 1771.41,1376.1 1791.39,1378.78 1811.38,1381.45 1831.36,1384.13 1851.35,1386.81 1871.33,1389.49 1891.32,1392.16 1911.3,1394.84 1931.28,1397.52 1951.27,1400.2 1971.25,1402.88 1991.24,1405.55 2011.22,1408.23 2031.21,1410.91 2051.19,1413.59 2071.18,1416.26 2091.16,1418.94 2111.14,1421.62 2131.13,1424.3 2151.11,1426.97 2171.1,1429.65 2191.08,1432.33 2211.07,1435.01 2231.05,1437.68 2251.04,1440.36 2271.02,1443.04 2291,1445.72 \"/>\n",
       "<path clip-path=\"url(#clip680)\" d=\"M243.587 302.578 L559.092 302.578 L559.092 95.2176 L243.587 95.2176  Z\" fill=\"#ffffff\" fill-rule=\"evenodd\" fill-opacity=\"1\"/>\n",
       "<polyline clip-path=\"url(#clip680)\" style=\"stroke:#000000; stroke-linecap:round; stroke-linejoin:round; stroke-width:4; stroke-opacity:1; fill:none\" points=\"243.587,302.578 559.092,302.578 559.092,95.2176 243.587,95.2176 243.587,302.578 \"/>\n",
       "<polyline clip-path=\"url(#clip680)\" style=\"stroke:#0000ff; stroke-linecap:round; stroke-linejoin:round; stroke-width:8; stroke-opacity:1; fill:none\" points=\"267.831,147.058 413.291,147.058 \"/>\n",
       "<path clip-path=\"url(#clip680)\" d=\"M462.187 138.412 L452.812 151.027 L462.673 164.338 L457.65 164.338 L450.103 154.152 L442.557 164.338 L437.534 164.338 L447.603 150.773 L438.39 138.412 L443.413 138.412 L450.288 147.648 L457.163 138.412 L462.187 138.412 Z\" fill=\"#000000\" fill-rule=\"evenodd\" fill-opacity=\"1\" /><path clip-path=\"url(#clip680)\" d=\"M478.923 128.366 Q475.821 133.69 474.316 138.898 Q472.811 144.106 472.811 149.453 Q472.811 154.801 474.316 160.055 Q475.844 165.287 478.923 170.588 L475.219 170.588 Q471.747 165.148 470.011 159.893 Q468.298 154.639 468.298 149.453 Q468.298 144.291 470.011 139.06 Q471.724 133.828 475.219 128.366 L478.923 128.366 Z\" fill=\"#000000\" fill-rule=\"evenodd\" fill-opacity=\"1\" /><path clip-path=\"url(#clip680)\" d=\"M491.399 131.051 L491.399 138.412 L500.172 138.412 L500.172 141.722 L491.399 141.722 L491.399 155.796 Q491.399 158.967 492.256 159.87 Q493.135 160.773 495.797 160.773 L500.172 160.773 L500.172 164.338 L495.797 164.338 Q490.867 164.338 488.992 162.509 Q487.117 160.657 487.117 155.796 L487.117 141.722 L483.992 141.722 L483.992 138.412 L487.117 138.412 L487.117 131.051 L491.399 131.051 Z\" fill=\"#000000\" fill-rule=\"evenodd\" fill-opacity=\"1\" /><path clip-path=\"url(#clip680)\" d=\"M505.103 128.366 L508.807 128.366 Q512.279 133.828 513.992 139.06 Q515.728 144.291 515.728 149.453 Q515.728 154.639 513.992 159.893 Q512.279 165.148 508.807 170.588 L505.103 170.588 Q508.182 165.287 509.686 160.055 Q511.214 154.801 511.214 149.453 Q511.214 144.106 509.686 138.898 Q508.182 133.69 505.103 128.366 Z\" fill=\"#000000\" fill-rule=\"evenodd\" fill-opacity=\"1\" /><polyline clip-path=\"url(#clip680)\" style=\"stroke:#ff0000; stroke-linecap:round; stroke-linejoin:round; stroke-width:8; stroke-opacity:1; fill:none\" points=\"267.831,198.898 413.291,198.898 \"/>\n",
       "<path clip-path=\"url(#clip680)\" d=\"M451.376 218.585 Q449.571 223.215 447.858 224.627 Q446.145 226.039 443.275 226.039 L439.872 226.039 L439.872 222.474 L442.372 222.474 Q444.131 222.474 445.103 221.64 Q446.076 220.807 447.256 217.705 L448.02 215.761 L437.534 190.252 L442.048 190.252 L450.15 210.529 L458.251 190.252 L462.765 190.252 L451.376 218.585 Z\" fill=\"#000000\" fill-rule=\"evenodd\" fill-opacity=\"1\" /><path clip-path=\"url(#clip680)\" d=\"M478.876 180.206 Q475.774 185.53 474.27 190.738 Q472.765 195.946 472.765 201.293 Q472.765 206.641 474.27 211.895 Q475.798 217.127 478.876 222.428 L475.173 222.428 Q471.7 216.988 469.964 211.733 Q468.251 206.479 468.251 201.293 Q468.251 196.131 469.964 190.9 Q471.677 185.668 475.173 180.206 L478.876 180.206 Z\" fill=\"#000000\" fill-rule=\"evenodd\" fill-opacity=\"1\" /><path clip-path=\"url(#clip680)\" d=\"M491.353 182.891 L491.353 190.252 L500.126 190.252 L500.126 193.562 L491.353 193.562 L491.353 207.636 Q491.353 210.807 492.21 211.71 Q493.089 212.613 495.751 212.613 L500.126 212.613 L500.126 216.178 L495.751 216.178 Q490.821 216.178 488.946 214.349 Q487.071 212.497 487.071 207.636 L487.071 193.562 L483.946 193.562 L483.946 190.252 L487.071 190.252 L487.071 182.891 L491.353 182.891 Z\" fill=\"#000000\" fill-rule=\"evenodd\" fill-opacity=\"1\" /><path clip-path=\"url(#clip680)\" d=\"M505.057 180.206 L508.76 180.206 Q512.233 185.668 513.946 190.9 Q515.682 196.131 515.682 201.293 Q515.682 206.479 513.946 211.733 Q512.233 216.988 508.76 222.428 L505.057 222.428 Q508.135 217.127 509.64 211.895 Q511.168 206.641 511.168 201.293 Q511.168 195.946 509.64 190.738 Q508.135 185.53 505.057 180.206 Z\" fill=\"#000000\" fill-rule=\"evenodd\" fill-opacity=\"1\" /><polyline clip-path=\"url(#clip680)\" style=\"stroke:#008000; stroke-linecap:round; stroke-linejoin:round; stroke-width:8; stroke-opacity:1; fill:none\" points=\"267.831,250.738 413.291,250.738 \"/>\n",
       "<path clip-path=\"url(#clip680)\" d=\"M437.534 242.092 L442.048 242.092 L450.15 263.851 L458.251 242.092 L462.765 242.092 L453.043 268.018 L447.256 268.018 L437.534 242.092 Z\" fill=\"#000000\" fill-rule=\"evenodd\" fill-opacity=\"1\" /><path clip-path=\"url(#clip680)\" d=\"M480.566 259.244 L480.566 268.018 L477.881 268.018 L477.881 259.337 Q477.881 257.277 476.978 256.258 Q476.075 255.217 474.27 255.217 Q472.094 255.217 470.844 256.467 Q469.594 257.694 469.594 259.823 L469.594 268.018 L466.886 268.018 L466.886 247.856 L469.594 247.856 L469.594 255.749 Q470.543 254.453 471.839 253.805 Q473.159 253.157 474.872 253.157 Q477.673 253.157 479.108 254.707 Q480.566 256.258 480.566 259.244 Z\" fill=\"#000000\" fill-rule=\"evenodd\" fill-opacity=\"1\" /><path clip-path=\"url(#clip680)\" d=\"M498.043 232.046 Q494.941 237.37 493.436 242.578 Q491.932 247.786 491.932 253.133 Q491.932 258.481 493.436 263.735 Q494.964 268.967 498.043 274.268 L494.339 274.268 Q490.867 268.828 489.131 263.573 Q487.418 258.319 487.418 253.133 Q487.418 247.971 489.131 242.74 Q490.844 237.508 494.339 232.046 L498.043 232.046 Z\" fill=\"#000000\" fill-rule=\"evenodd\" fill-opacity=\"1\" /><path clip-path=\"url(#clip680)\" d=\"M510.52 234.731 L510.52 242.092 L519.293 242.092 L519.293 245.402 L510.52 245.402 L510.52 259.476 Q510.52 262.647 511.376 263.55 Q512.256 264.453 514.918 264.453 L519.293 264.453 L519.293 268.018 L514.918 268.018 Q509.987 268.018 508.112 266.189 Q506.237 264.337 506.237 259.476 L506.237 245.402 L503.112 245.402 L503.112 242.092 L506.237 242.092 L506.237 234.731 L510.52 234.731 Z\" fill=\"#000000\" fill-rule=\"evenodd\" fill-opacity=\"1\" /><path clip-path=\"url(#clip680)\" d=\"M524.223 232.046 L527.927 232.046 Q531.399 237.508 533.112 242.74 Q534.848 247.971 534.848 253.133 Q534.848 258.319 533.112 263.573 Q531.399 268.828 527.927 274.268 L524.223 274.268 Q527.302 268.967 528.807 263.735 Q530.334 258.481 530.334 253.133 Q530.334 247.786 528.807 242.578 Q527.302 237.37 524.223 232.046 Z\" fill=\"#000000\" fill-rule=\"evenodd\" fill-opacity=\"1\" /></svg>\n"
      ]
     },
     "execution_count": 21,
     "metadata": {},
     "output_type": "execute_result"
    }
   ],
   "source": [
    "plotting(pi/6, 50)"
   ]
  },
  {
   "cell_type": "markdown",
   "metadata": {},
   "source": [
    "### Problema 8\n",
    "\n",
    "Implemente una función que multiplique un vector $v$ de dimensión $N$ por una matriz $A$ de dimensión $N\\times N$, y retorne como resultado un vector de dimensión $N$.\n",
    "\n",
    "Escriba un programa que, dado el valor de $N$:\n",
    "\n",
    "1. cree los arreglos correspondientes para $v$ y $A$,\n",
    "\n",
    "2. inicie los valores de $A$ de modo que sea triangular superior, con todos sus elementos igual a 1, excepto los de la diagonal que deben tomar valor 3,\n",
    "\n",
    "3. inicie el vector con todos elementos pares igual a 2, y los impares igual a 3. \n",
    "\n",
    "Minimice el uso de loops (i.e. `for`) para las inicializar los valores del vector y de la matriz. Utilice, en cambio, *broadcasting* y *slicing*.\n",
    "\n",
    "**Ayuda:** Lea [https://docs.julialang.org/en/v1/base/arrays/](https://docs.julialang.org/en/v1/base/arrays/)."
   ]
  },
  {
   "cell_type": "code",
   "execution_count": 104,
   "metadata": {},
   "outputs": [],
   "source": []
  },
  {
   "cell_type": "markdown",
   "metadata": {},
   "source": [
    "### Problema 9\n",
    "\n",
    "Escriba una funcion que tome como entrada un número natural $n$ en base $10$ y un número natural $b \\in \\{2,3,...,16\\}$ también en base $10$, y que retorne un string representando a $n$ en base $b$. Testee la función con ejemplos. Chequee con [https://www.rapidtables.com/convert/number/base-converter.html](https://www.rapidtables.com/convert/number/base-converter.html)."
   ]
  },
  {
   "cell_type": "code",
   "execution_count": 105,
   "metadata": {},
   "outputs": [],
   "source": []
  },
  {
   "cell_type": "markdown",
   "metadata": {},
   "source": [
    "## Ejercicios Complementarios\n",
    "\n",
    "\n",
    "### Problema C.1\n",
    "\n",
    "Efectúe con un programa en Julia en simple precisión los siguientes cálculos matemáticamente equivalentes,\n",
    "\n",
    "a) $1\\,000\\,000 \\times 0.1$\n",
    "\n",
    "b) $\\sum_{n=1}^{1\\,000\\,000} 0.1$\n",
    "\n",
    "c) $\\sum_{n=1}^{1\\,000} \\left( \\sum_{m=1}^{1\\,000} 0.1\\right)$\n",
    "\n",
    "Explique las diferencias obtenidas entre resultados finales de a), b) y c) y muestre que el error relativo en b) es del orden del $1\\%$, pero es mucho menor en c). \n",
    "\n",
    "1. En los puntos b) y c), vaya guardando en un vector los errores parciales obtenidos para diferentes valores de $n$ entre 1 y 1,000,000. \n",
    "Cada 1000 iteraciones en el caso b), y en todas las iteraciones de la suma externa en c), de maner que cada suma parcial comprenda 1000 términos de la suma total.\n",
    "\n",
    "2. Grafique dichos vectores, comparando con el valor exacto $0.1\\times n$ de la correspondiente suma parcial a cada valor de $n$.\n",
    "Incluya en el gráfico nombres adecuados en los ejes y con leyendas adecuadas.\n",
    "Los datos de b) graficarlos con puntos de tamaño 0.75 (el default es 1), y los de c) con línea\n",
    "de grosor 1.6 (el default es también 1). \n",
    "\n",
    "3. Luego de ver cómo le queda la gráfica en escala lineal, vuelva a graficar con el eje $x$ en escala logarítmica. \n",
    "Segun su criterio, en qué escala se aprecia mejor el resultado del problema para su análisis? \n",
    "Puede al eje $y$ darle escala logarítmica? \n",
    "Pruebe qué pasa si lo hace.\n",
    "Analice la conveniencia en general del uso de escalas logarítmicas.\n",
    "\n",
    "Resalte la conclusión de este ejercicio."
   ]
  },
  {
   "cell_type": "code",
   "execution_count": 106,
   "metadata": {},
   "outputs": [],
   "source": []
  },
  {
   "cell_type": "markdown",
   "metadata": {},
   "source": [
    "### Problema C.2\n",
    "\n",
    "Baje el archivo `GlobalTemperatures.csv` de Kaggle:\n",
    "\n",
    "[https://www.kaggle.com/berkeleyearth/climate-change-earth-surface-temperature-data/version/2?select=GlobalTemperatures.csv](https://www.kaggle.com/berkeleyearth/climate-change-earth-surface-temperature-data/version/2?select=GlobalTemperatures.csv)\n",
    "\n",
    "Este archivo contiene la temperatura (promediada sobre el globo terrestre y a lo largo del día) de cada día (salvo algunos faltantes) desde 1 de Enero de 1750 hasta el año 2015.\n",
    "\n",
    "Escribir un programa que lea la tabla de números y grafique las columna `LandAverageTemperature` vs el número de fila, incluyendo una leyenda adecuada y títulos a los ejes. Finalmente, incluya una linea constante en la temperatura promedio. Tengan en cuenta que en los datos existen valores faltantes (missing values). \n",
    "\n",
    "Repita lo anterior, pero agregando a la figura una curva representando el *rolling average* de los datos usando una ventana de $v=365$ días. El rolling average se define como\n",
    "\n",
    "$$x_{ra}(t,v) = \\frac{1}{v}\\sum_{t'=t}^{t+v} x(t')$$\n",
    "\n",
    "i.e., para cada $t$, se promedian los valores de $x$ en $[t,t+v]$. Esto se usa para suavizar las fluctuaciones temporalmente locales de la señal.\n",
    "\n",
    "Saque ventaja de los paquetes `CSV`, `DataFrames` y `Statistics`.\n",
    "\n",
    "Puede concluirse que se observa calentamiento global?"
   ]
  },
  {
   "cell_type": "code",
   "execution_count": 107,
   "metadata": {},
   "outputs": [],
   "source": []
  },
  {
   "cell_type": "markdown",
   "metadata": {},
   "source": [
    "### Problema C.4\n",
    "\n",
    "Escriba un programa para calcular un valor aproximado de $\\pi$ utilizando \n",
    "\n",
    "1. La fórmula recurrente de Arquímedes, que  acota $\\pi$ entre $P_n$ y $p_n$, con $p_n < \\pi < P_n$. \n",
    "Siendo $p_n$ y $P_n$ los perímetros de los polígonos regulares de $n$ lados inscriptos y circunscriptos, respectivamente, en la circunsferencia de radio $1/2$. \n",
    "\n",
    "La fórmula de recurrencia que encontró Arquímides es la siguiente:\n",
    "\n",
    "$$\n",
    "\\begin{align}\n",
    "P_{2n} &= \\frac{2 p_n P_n}{p_n + P_n} \\\\\n",
    "p_{2n} &= \\sqrt{P_{2n} p_n} \n",
    "\\end{align}\n",
    "$$\n",
    "\n",
    "\n",
    "Usando los valores $P_6=2\\sqrt{3}$ y $p_6 = 3$, correspondientes al hexágono, \n",
    "escriba un programa que realice 20 iteraciones, con $n = 6\\times 2^k$, y \n",
    "$k=1, \\cdots, 20$, y escriba los resultados en pantalla.\n",
    "\n",
    "2. La productoria de Wallis\n",
    "$$\n",
    "\\frac{\\pi}{2} = \\prod_{n=1}^\\infty \\frac{(2n)^2}{(2n)^2-1} =\n",
    "\\frac43\\frac{16}{15}\\frac{36}{35}\\frac{64}{63}\\dots \n",
    "%\\frac21\\frac23\\frac43\\frac45\\frac65\\frac67\\dots \n",
    "$$\n",
    "truncando la productoria a $10^6$ factores."
   ]
  },
  {
   "cell_type": "code",
   "execution_count": 108,
   "metadata": {},
   "outputs": [],
   "source": []
  },
  {
   "cell_type": "markdown",
   "metadata": {},
   "source": [
    "### Problema C.5\n",
    "\n",
    "Ejecute el siguiente programa y explique por qué los valores obtenidos no son iguales."
   ]
  },
  {
   "cell_type": "code",
   "execution_count": 109,
   "metadata": {},
   "outputs": [],
   "source": []
  },
  {
   "cell_type": "markdown",
   "metadata": {},
   "source": [
    "### Ejercicio C.6\n",
    "\n",
    "Implemente una función que calcule la potencia enésima de un número, es decir que devuelva $x^n$ para $x$ real y $n$ natural, iterando sobre un loop con la instrucción `for`.\n",
    "Utilice la función para imprinir en pantalla las primeras 10 potencias naturales de un número ingresado.\n",
    "Compare con la expressión nativa de Julia para calcular potencias `x^n`, cuando $x=e^\\sqrt{2}$.\n",
    "Resultan iguales?"
   ]
  },
  {
   "cell_type": "code",
   "execution_count": 110,
   "metadata": {},
   "outputs": [],
   "source": []
  },
  {
   "cell_type": "markdown",
   "metadata": {},
   "source": [
    "### Ejercicio C.7 (15 de fortran)\n",
    "\n",
    "**Serie de Taylor, aproximaciones y errores**\n",
    "\n",
    "La siguiente fórmula permite expresar, usando la serie de Taylor a partir del punto $x=0$, la función *seno* como suma (infinita) de potencias:\n",
    "\n",
    "$$\n",
    "\\sin(x) = \\sum_{j=0}^{\\infty} \\frac{(-1)^j}{(2j+1)!}x^{2j+1}\n",
    "$$\n",
    "\n",
    "Podemos approximar esta expresión en la computadora truncando la serie en algún valor finito de $n$.\n",
    "\n",
    "1. Defina una función, `sin_n(x,n)` que tome como argumentos un valor de la variable `x` y un valor de `n` y devuelva el valor de la suma hasta dicho $n$. \n",
    "    \n",
    "2. Grafique en el intervalo $[0, 2π]$ dicha función para los distintos valores de $n=6,7,8$ y agregue en el mismo gráfico la función `sin(x)` que viene pre-definida en Julia.\n",
    "    \n",
    "3. En otro gráfico grafique el *error* entre la aproximación con $n=8$ y la función estandard de Julia. \n",
    "    \n",
    "4. Defina una nueva función, `sin_in(x,n)` idéntica a al anterior pero donde la suma se haga en orden inverso.\n",
    "    \n",
    "5. Compare los resultados entre ambas funciones `sin_n()` y `sin_ni()`, y la función `sin(x)` de Julia y explique las diferencias.\n",
    "\n",
    "6. Repita la comparación pero utilizando precisión simple. \n",
    "\n",
    "**Ayudas para el inciso 6.** \n",
    "\n",
    "* Recuerde que para expresar un número en precisión simple puede escribir, por ejemplo, `1.0f0`.\n",
    "\n",
    "* Alternativamente, puede escribir `Float32(1)`. \n",
    "\n",
    "* La expresión `s = Float32(x)` crea una variable `s` y la inicializa con el valor de la variable `x` pero convertido a precisión simple.\n",
    "\n",
    "* Las expresiones `zero(x)` y `one(x)` retornan 0 y 1, respectivamente, en la misma precisión que la variable `x`.\n",
    "\n",
    "* La expresión `convert(Float32,x)` retorna el valor de la variable `x` en precisión simple, i.e. precisión `Float32`."
   ]
  },
  {
   "cell_type": "code",
   "execution_count": 111,
   "metadata": {},
   "outputs": [],
   "source": []
  },
  {
   "cell_type": "markdown",
   "metadata": {},
   "source": [
    "### Ejercicio C.8\n",
    "\n",
    "La fórmula cuadrática nos dice que las raíces de $ax^2 + bx + c = 0$ son\n",
    "\n",
    "$$\n",
    "x_1 = \\frac{-b+\\sqrt{b^2-4ac}}{2a},\n",
    "\\;\\;\\;\\;\n",
    "x_2 = \\frac{-b-\\sqrt{b^2-4ac}}{2a}\n",
    "$$\n",
    "\n",
    "Si $b^2 \\ll 4ac$, cálculo de $x_1$ involucra en el numerador la sustracción de dos números casi iguales cuando $b>0$, y ocurre para el cálculo de $x_2$ cuando $b<0$.\n",
    "La división por números gigantes suele generar errores numéricos severos.\n",
    "Para solucionar este problema, conviene *racionalizar los numeradores* en cuestión.\n",
    "Más precisamente, conviene calcular la raíz $x_1$ usando la expresión\n",
    "\n",
    "$$\n",
    "x_1 = \\frac{-2c}{b+\\sqrt{b^2-4ac}}\n",
    "$$\n",
    "\n",
    "cuando $b>0$, y conviene calcular la raíz $x_2$ usando la expresión\n",
    "\n",
    "$$\n",
    "x_2 = \\frac{2c}{-b+\\sqrt{b^2-4ac}}\n",
    "$$\n",
    "\n",
    "cuando $b<0$.\n",
    "\n",
    "1. Implemente una función que utilice las fórmulas usuales para calcular las raices $x_1$ y $x_2$.\n",
    "\n",
    "2. Implemente otra función que utilice las fórmulas *racionalizadas* para calcular las raíces $x_1$ y $x_2$.\n",
    "\n",
    "3. Implemente una función que calcule las raíces $x_1$ y $x_2$ evaluando la condición $b^2\\ll 4ac$ para decidir que fórmula utilizar en cada caso.\n",
    "\n",
    "**Ayuda:** Evalúe la condición $b^2\\gg 4ac$ utilizando la función `eps()` de Julia, la cuál indica la precisión numérica que soporta la máquina en la que corre el código.\n",
    "\n",
    "4. Utilice las funciones de los incisos anteriores para encontrar aproximaciones numéricas a las raíces de las ecuaciónes\n",
    "\n",
    "   a) $x^2 + 6210x + 1 = 0$\n",
    "\n",
    "   b) $x^2 - 6210x + 1 = 0$\n",
    "\n",
    "5. Repita el inciso anterior para precisión simple.\n",
    "\n",
    "6. Describa lo observado."
   ]
  },
  {
   "cell_type": "code",
   "execution_count": 112,
   "metadata": {},
   "outputs": [],
   "source": []
  }
 ],
 "metadata": {
  "@webio": {
   "lastCommId": null,
   "lastKernelId": null
  },
  "kernelspec": {
   "display_name": "Julia 1.8.5",
   "language": "julia",
   "name": "julia-1.8"
  },
  "language_info": {
   "file_extension": ".jl",
   "mimetype": "application/julia",
   "name": "julia",
   "version": "1.8.5"
  }
 },
 "nbformat": 4,
 "nbformat_minor": 4
}
